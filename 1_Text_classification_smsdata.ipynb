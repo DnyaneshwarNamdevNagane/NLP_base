{
  "nbformat": 4,
  "nbformat_minor": 0,
  "metadata": {
    "colab": {
      "provenance": []
    },
    "kernelspec": {
      "name": "python3",
      "display_name": "Python 3"
    },
    "language_info": {
      "name": "python"
    }
  },
  "cells": [
    {
      "cell_type": "markdown",
      "source": [
        "SMS data is available in .csv format, lets import it from google colab"
      ],
      "metadata": {
        "id": "-x4tDHutJCaR"
      }
    },
    {
      "cell_type": "code",
      "source": [
        "from google.colab import drive\n",
        "drive.mount('/gdrive')"
      ],
      "metadata": {
        "colab": {
          "base_uri": "https://localhost:8080/"
        },
        "id": "DoJLXP1eGlzf",
        "outputId": "8a6dc742-45b8-4fbe-e581-551b8e909989"
      },
      "execution_count": null,
      "outputs": [
        {
          "output_type": "stream",
          "name": "stdout",
          "text": [
            "Mounted at /gdrive\n"
          ]
        }
      ]
    },
    {
      "cell_type": "code",
      "source": [
        "import pandas as pd\n",
        "import numpy as np"
      ],
      "metadata": {
        "id": "kpBMudL5Gsaz"
      },
      "execution_count": null,
      "outputs": []
    },
    {
      "cell_type": "code",
      "source": [
        "#importing the data\n",
        "data=pd.read_table('/gdrive/MyDrive/AIML/NLP/Rajeev_Notebook_1/Data/sms.tsv', header=None, names=['label','message'])"
      ],
      "metadata": {
        "id": "6oZR_ycfHKLW"
      },
      "execution_count": null,
      "outputs": []
    },
    {
      "cell_type": "code",
      "source": [
        "data.sample(5)"
      ],
      "metadata": {
        "colab": {
          "base_uri": "https://localhost:8080/",
          "height": 206
        },
        "id": "pb5HeB5WHknz",
        "outputId": "7f10bc7c-c328-414e-f652-84f0f1c1c8b3"
      },
      "execution_count": null,
      "outputs": [
        {
          "output_type": "execute_result",
          "data": {
            "text/plain": [
              "     label                                            message\n",
              "145    ham                          Yes see ya not on the dot\n",
              "2645   ham                   My friends use to call the same.\n",
              "4577  spam  Congratulations ur awarded 500 of CD vouchers ...\n",
              "2887   ham                 No probs hon! How u doinat the mo?\n",
              "4258  spam  important information 4 orange user . today is..."
            ],
            "text/html": [
              "\n",
              "  <div id=\"df-e691d1a6-8ce9-4f24-a7ce-dd8b0f98a75d\">\n",
              "    <div class=\"colab-df-container\">\n",
              "      <div>\n",
              "<style scoped>\n",
              "    .dataframe tbody tr th:only-of-type {\n",
              "        vertical-align: middle;\n",
              "    }\n",
              "\n",
              "    .dataframe tbody tr th {\n",
              "        vertical-align: top;\n",
              "    }\n",
              "\n",
              "    .dataframe thead th {\n",
              "        text-align: right;\n",
              "    }\n",
              "</style>\n",
              "<table border=\"1\" class=\"dataframe\">\n",
              "  <thead>\n",
              "    <tr style=\"text-align: right;\">\n",
              "      <th></th>\n",
              "      <th>label</th>\n",
              "      <th>message</th>\n",
              "    </tr>\n",
              "  </thead>\n",
              "  <tbody>\n",
              "    <tr>\n",
              "      <th>145</th>\n",
              "      <td>ham</td>\n",
              "      <td>Yes see ya not on the dot</td>\n",
              "    </tr>\n",
              "    <tr>\n",
              "      <th>2645</th>\n",
              "      <td>ham</td>\n",
              "      <td>My friends use to call the same.</td>\n",
              "    </tr>\n",
              "    <tr>\n",
              "      <th>4577</th>\n",
              "      <td>spam</td>\n",
              "      <td>Congratulations ur awarded 500 of CD vouchers ...</td>\n",
              "    </tr>\n",
              "    <tr>\n",
              "      <th>2887</th>\n",
              "      <td>ham</td>\n",
              "      <td>No probs hon! How u doinat the mo?</td>\n",
              "    </tr>\n",
              "    <tr>\n",
              "      <th>4258</th>\n",
              "      <td>spam</td>\n",
              "      <td>important information 4 orange user . today is...</td>\n",
              "    </tr>\n",
              "  </tbody>\n",
              "</table>\n",
              "</div>\n",
              "      <button class=\"colab-df-convert\" onclick=\"convertToInteractive('df-e691d1a6-8ce9-4f24-a7ce-dd8b0f98a75d')\"\n",
              "              title=\"Convert this dataframe to an interactive table.\"\n",
              "              style=\"display:none;\">\n",
              "        \n",
              "  <svg xmlns=\"http://www.w3.org/2000/svg\" height=\"24px\"viewBox=\"0 0 24 24\"\n",
              "       width=\"24px\">\n",
              "    <path d=\"M0 0h24v24H0V0z\" fill=\"none\"/>\n",
              "    <path d=\"M18.56 5.44l.94 2.06.94-2.06 2.06-.94-2.06-.94-.94-2.06-.94 2.06-2.06.94zm-11 1L8.5 8.5l.94-2.06 2.06-.94-2.06-.94L8.5 2.5l-.94 2.06-2.06.94zm10 10l.94 2.06.94-2.06 2.06-.94-2.06-.94-.94-2.06-.94 2.06-2.06.94z\"/><path d=\"M17.41 7.96l-1.37-1.37c-.4-.4-.92-.59-1.43-.59-.52 0-1.04.2-1.43.59L10.3 9.45l-7.72 7.72c-.78.78-.78 2.05 0 2.83L4 21.41c.39.39.9.59 1.41.59.51 0 1.02-.2 1.41-.59l7.78-7.78 2.81-2.81c.8-.78.8-2.07 0-2.86zM5.41 20L4 18.59l7.72-7.72 1.47 1.35L5.41 20z\"/>\n",
              "  </svg>\n",
              "      </button>\n",
              "      \n",
              "  <style>\n",
              "    .colab-df-container {\n",
              "      display:flex;\n",
              "      flex-wrap:wrap;\n",
              "      gap: 12px;\n",
              "    }\n",
              "\n",
              "    .colab-df-convert {\n",
              "      background-color: #E8F0FE;\n",
              "      border: none;\n",
              "      border-radius: 50%;\n",
              "      cursor: pointer;\n",
              "      display: none;\n",
              "      fill: #1967D2;\n",
              "      height: 32px;\n",
              "      padding: 0 0 0 0;\n",
              "      width: 32px;\n",
              "    }\n",
              "\n",
              "    .colab-df-convert:hover {\n",
              "      background-color: #E2EBFA;\n",
              "      box-shadow: 0px 1px 2px rgba(60, 64, 67, 0.3), 0px 1px 3px 1px rgba(60, 64, 67, 0.15);\n",
              "      fill: #174EA6;\n",
              "    }\n",
              "\n",
              "    [theme=dark] .colab-df-convert {\n",
              "      background-color: #3B4455;\n",
              "      fill: #D2E3FC;\n",
              "    }\n",
              "\n",
              "    [theme=dark] .colab-df-convert:hover {\n",
              "      background-color: #434B5C;\n",
              "      box-shadow: 0px 1px 3px 1px rgba(0, 0, 0, 0.15);\n",
              "      filter: drop-shadow(0px 1px 2px rgba(0, 0, 0, 0.3));\n",
              "      fill: #FFFFFF;\n",
              "    }\n",
              "  </style>\n",
              "\n",
              "      <script>\n",
              "        const buttonEl =\n",
              "          document.querySelector('#df-e691d1a6-8ce9-4f24-a7ce-dd8b0f98a75d button.colab-df-convert');\n",
              "        buttonEl.style.display =\n",
              "          google.colab.kernel.accessAllowed ? 'block' : 'none';\n",
              "\n",
              "        async function convertToInteractive(key) {\n",
              "          const element = document.querySelector('#df-e691d1a6-8ce9-4f24-a7ce-dd8b0f98a75d');\n",
              "          const dataTable =\n",
              "            await google.colab.kernel.invokeFunction('convertToInteractive',\n",
              "                                                     [key], {});\n",
              "          if (!dataTable) return;\n",
              "\n",
              "          const docLinkHtml = 'Like what you see? Visit the ' +\n",
              "            '<a target=\"_blank\" href=https://colab.research.google.com/notebooks/data_table.ipynb>data table notebook</a>'\n",
              "            + ' to learn more about interactive tables.';\n",
              "          element.innerHTML = '';\n",
              "          dataTable['output_type'] = 'display_data';\n",
              "          await google.colab.output.renderOutput(dataTable, element);\n",
              "          const docLink = document.createElement('div');\n",
              "          docLink.innerHTML = docLinkHtml;\n",
              "          element.appendChild(docLink);\n",
              "        }\n",
              "      </script>\n",
              "    </div>\n",
              "  </div>\n",
              "  "
            ]
          },
          "metadata": {},
          "execution_count": 7
        }
      ]
    },
    {
      "cell_type": "code",
      "source": [
        "data.shape"
      ],
      "metadata": {
        "colab": {
          "base_uri": "https://localhost:8080/"
        },
        "id": "VHvfpFqzHmY5",
        "outputId": "f0d05297-e793-442f-bee1-1fc115bd7250"
      },
      "execution_count": null,
      "outputs": [
        {
          "output_type": "execute_result",
          "data": {
            "text/plain": [
              "(5572, 2)"
            ]
          },
          "metadata": {},
          "execution_count": 8
        }
      ]
    },
    {
      "cell_type": "code",
      "source": [
        "#Spam Vs Ham\n",
        "\n",
        "data.groupby('label').count()"
      ],
      "metadata": {
        "colab": {
          "base_uri": "https://localhost:8080/",
          "height": 143
        },
        "id": "V1OJpBCWH3nv",
        "outputId": "d5019b1d-63eb-4ec1-c1ec-3286d796ee9a"
      },
      "execution_count": null,
      "outputs": [
        {
          "output_type": "execute_result",
          "data": {
            "text/plain": [
              "       message\n",
              "label         \n",
              "ham       4825\n",
              "spam       747"
            ],
            "text/html": [
              "\n",
              "  <div id=\"df-0e300f64-c6e3-4b89-a2d0-25f0e8885a34\">\n",
              "    <div class=\"colab-df-container\">\n",
              "      <div>\n",
              "<style scoped>\n",
              "    .dataframe tbody tr th:only-of-type {\n",
              "        vertical-align: middle;\n",
              "    }\n",
              "\n",
              "    .dataframe tbody tr th {\n",
              "        vertical-align: top;\n",
              "    }\n",
              "\n",
              "    .dataframe thead th {\n",
              "        text-align: right;\n",
              "    }\n",
              "</style>\n",
              "<table border=\"1\" class=\"dataframe\">\n",
              "  <thead>\n",
              "    <tr style=\"text-align: right;\">\n",
              "      <th></th>\n",
              "      <th>message</th>\n",
              "    </tr>\n",
              "    <tr>\n",
              "      <th>label</th>\n",
              "      <th></th>\n",
              "    </tr>\n",
              "  </thead>\n",
              "  <tbody>\n",
              "    <tr>\n",
              "      <th>ham</th>\n",
              "      <td>4825</td>\n",
              "    </tr>\n",
              "    <tr>\n",
              "      <th>spam</th>\n",
              "      <td>747</td>\n",
              "    </tr>\n",
              "  </tbody>\n",
              "</table>\n",
              "</div>\n",
              "      <button class=\"colab-df-convert\" onclick=\"convertToInteractive('df-0e300f64-c6e3-4b89-a2d0-25f0e8885a34')\"\n",
              "              title=\"Convert this dataframe to an interactive table.\"\n",
              "              style=\"display:none;\">\n",
              "        \n",
              "  <svg xmlns=\"http://www.w3.org/2000/svg\" height=\"24px\"viewBox=\"0 0 24 24\"\n",
              "       width=\"24px\">\n",
              "    <path d=\"M0 0h24v24H0V0z\" fill=\"none\"/>\n",
              "    <path d=\"M18.56 5.44l.94 2.06.94-2.06 2.06-.94-2.06-.94-.94-2.06-.94 2.06-2.06.94zm-11 1L8.5 8.5l.94-2.06 2.06-.94-2.06-.94L8.5 2.5l-.94 2.06-2.06.94zm10 10l.94 2.06.94-2.06 2.06-.94-2.06-.94-.94-2.06-.94 2.06-2.06.94z\"/><path d=\"M17.41 7.96l-1.37-1.37c-.4-.4-.92-.59-1.43-.59-.52 0-1.04.2-1.43.59L10.3 9.45l-7.72 7.72c-.78.78-.78 2.05 0 2.83L4 21.41c.39.39.9.59 1.41.59.51 0 1.02-.2 1.41-.59l7.78-7.78 2.81-2.81c.8-.78.8-2.07 0-2.86zM5.41 20L4 18.59l7.72-7.72 1.47 1.35L5.41 20z\"/>\n",
              "  </svg>\n",
              "      </button>\n",
              "      \n",
              "  <style>\n",
              "    .colab-df-container {\n",
              "      display:flex;\n",
              "      flex-wrap:wrap;\n",
              "      gap: 12px;\n",
              "    }\n",
              "\n",
              "    .colab-df-convert {\n",
              "      background-color: #E8F0FE;\n",
              "      border: none;\n",
              "      border-radius: 50%;\n",
              "      cursor: pointer;\n",
              "      display: none;\n",
              "      fill: #1967D2;\n",
              "      height: 32px;\n",
              "      padding: 0 0 0 0;\n",
              "      width: 32px;\n",
              "    }\n",
              "\n",
              "    .colab-df-convert:hover {\n",
              "      background-color: #E2EBFA;\n",
              "      box-shadow: 0px 1px 2px rgba(60, 64, 67, 0.3), 0px 1px 3px 1px rgba(60, 64, 67, 0.15);\n",
              "      fill: #174EA6;\n",
              "    }\n",
              "\n",
              "    [theme=dark] .colab-df-convert {\n",
              "      background-color: #3B4455;\n",
              "      fill: #D2E3FC;\n",
              "    }\n",
              "\n",
              "    [theme=dark] .colab-df-convert:hover {\n",
              "      background-color: #434B5C;\n",
              "      box-shadow: 0px 1px 3px 1px rgba(0, 0, 0, 0.15);\n",
              "      filter: drop-shadow(0px 1px 2px rgba(0, 0, 0, 0.3));\n",
              "      fill: #FFFFFF;\n",
              "    }\n",
              "  </style>\n",
              "\n",
              "      <script>\n",
              "        const buttonEl =\n",
              "          document.querySelector('#df-0e300f64-c6e3-4b89-a2d0-25f0e8885a34 button.colab-df-convert');\n",
              "        buttonEl.style.display =\n",
              "          google.colab.kernel.accessAllowed ? 'block' : 'none';\n",
              "\n",
              "        async function convertToInteractive(key) {\n",
              "          const element = document.querySelector('#df-0e300f64-c6e3-4b89-a2d0-25f0e8885a34');\n",
              "          const dataTable =\n",
              "            await google.colab.kernel.invokeFunction('convertToInteractive',\n",
              "                                                     [key], {});\n",
              "          if (!dataTable) return;\n",
              "\n",
              "          const docLinkHtml = 'Like what you see? Visit the ' +\n",
              "            '<a target=\"_blank\" href=https://colab.research.google.com/notebooks/data_table.ipynb>data table notebook</a>'\n",
              "            + ' to learn more about interactive tables.';\n",
              "          element.innerHTML = '';\n",
              "          dataTable['output_type'] = 'display_data';\n",
              "          await google.colab.output.renderOutput(dataTable, element);\n",
              "          const docLink = document.createElement('div');\n",
              "          docLink.innerHTML = docLinkHtml;\n",
              "          element.appendChild(docLink);\n",
              "        }\n",
              "      </script>\n",
              "    </div>\n",
              "  </div>\n",
              "  "
            ]
          },
          "metadata": {},
          "execution_count": 9
        }
      ]
    },
    {
      "cell_type": "code",
      "source": [
        "#Check out the legitmate ham messages\n",
        "\n",
        "msg_num=np.random.randint(0,data.shape[0])\n",
        "print(data.loc[msg_num, 'label'], ':', data.loc[msg_num, 'message'])"
      ],
      "metadata": {
        "colab": {
          "base_uri": "https://localhost:8080/"
        },
        "id": "bmtgruCeaEkZ",
        "outputId": "8818bdb7-2de1-4d95-e184-b3772f63a62c"
      },
      "execution_count": null,
      "outputs": [
        {
          "output_type": "stream",
          "name": "stdout",
          "text": [
            "ham : I'm already back home so no probably not\n"
          ]
        }
      ]
    },
    {
      "cell_type": "code",
      "source": [
        "#Chek missing value\n",
        "\n",
        "data.isnull().sum()"
      ],
      "metadata": {
        "colab": {
          "base_uri": "https://localhost:8080/"
        },
        "id": "c-VLjkKWfPmp",
        "outputId": "02a978b9-a68b-4b15-92f2-229598c14286"
      },
      "execution_count": null,
      "outputs": [
        {
          "output_type": "execute_result",
          "data": {
            "text/plain": [
              "label      0\n",
              "message    0\n",
              "dtype: int64"
            ]
          },
          "metadata": {},
          "execution_count": 16
        }
      ]
    },
    {
      "cell_type": "code",
      "source": [
        "data['label'].unique()"
      ],
      "metadata": {
        "colab": {
          "base_uri": "https://localhost:8080/"
        },
        "id": "my-wQngGfzXp",
        "outputId": "5ee3ae5b-c414-41a0-c4a8-bce05e71885c"
      },
      "execution_count": null,
      "outputs": [
        {
          "output_type": "execute_result",
          "data": {
            "text/plain": [
              "array(['ham', 'spam'], dtype=object)"
            ]
          },
          "metadata": {},
          "execution_count": 17
        }
      ]
    },
    {
      "cell_type": "code",
      "source": [
        "#Lets convert lables into numerical values\n",
        "data['label_num']=data.label.map({'ham':0, 'spam':1})"
      ],
      "metadata": {
        "id": "gKa5HpsLf9PS"
      },
      "execution_count": null,
      "outputs": []
    },
    {
      "cell_type": "code",
      "source": [
        "data.head()"
      ],
      "metadata": {
        "colab": {
          "base_uri": "https://localhost:8080/",
          "height": 206
        },
        "id": "2KLHLDvdivOh",
        "outputId": "d763fccd-7295-4394-9fa4-318472ec9bd4"
      },
      "execution_count": null,
      "outputs": [
        {
          "output_type": "execute_result",
          "data": {
            "text/plain": [
              "  label                                            message  label_num\n",
              "0   ham  Go until jurong point, crazy.. Available only ...          0\n",
              "1   ham                      Ok lar... Joking wif u oni...          0\n",
              "2  spam  Free entry in 2 a wkly comp to win FA Cup fina...          1\n",
              "3   ham  U dun say so early hor... U c already then say...          0\n",
              "4   ham  Nah I don't think he goes to usf, he lives aro...          0"
            ],
            "text/html": [
              "\n",
              "  <div id=\"df-358dfc0b-8cbc-4997-b3ab-9bff2ea5850b\">\n",
              "    <div class=\"colab-df-container\">\n",
              "      <div>\n",
              "<style scoped>\n",
              "    .dataframe tbody tr th:only-of-type {\n",
              "        vertical-align: middle;\n",
              "    }\n",
              "\n",
              "    .dataframe tbody tr th {\n",
              "        vertical-align: top;\n",
              "    }\n",
              "\n",
              "    .dataframe thead th {\n",
              "        text-align: right;\n",
              "    }\n",
              "</style>\n",
              "<table border=\"1\" class=\"dataframe\">\n",
              "  <thead>\n",
              "    <tr style=\"text-align: right;\">\n",
              "      <th></th>\n",
              "      <th>label</th>\n",
              "      <th>message</th>\n",
              "      <th>label_num</th>\n",
              "    </tr>\n",
              "  </thead>\n",
              "  <tbody>\n",
              "    <tr>\n",
              "      <th>0</th>\n",
              "      <td>ham</td>\n",
              "      <td>Go until jurong point, crazy.. Available only ...</td>\n",
              "      <td>0</td>\n",
              "    </tr>\n",
              "    <tr>\n",
              "      <th>1</th>\n",
              "      <td>ham</td>\n",
              "      <td>Ok lar... Joking wif u oni...</td>\n",
              "      <td>0</td>\n",
              "    </tr>\n",
              "    <tr>\n",
              "      <th>2</th>\n",
              "      <td>spam</td>\n",
              "      <td>Free entry in 2 a wkly comp to win FA Cup fina...</td>\n",
              "      <td>1</td>\n",
              "    </tr>\n",
              "    <tr>\n",
              "      <th>3</th>\n",
              "      <td>ham</td>\n",
              "      <td>U dun say so early hor... U c already then say...</td>\n",
              "      <td>0</td>\n",
              "    </tr>\n",
              "    <tr>\n",
              "      <th>4</th>\n",
              "      <td>ham</td>\n",
              "      <td>Nah I don't think he goes to usf, he lives aro...</td>\n",
              "      <td>0</td>\n",
              "    </tr>\n",
              "  </tbody>\n",
              "</table>\n",
              "</div>\n",
              "      <button class=\"colab-df-convert\" onclick=\"convertToInteractive('df-358dfc0b-8cbc-4997-b3ab-9bff2ea5850b')\"\n",
              "              title=\"Convert this dataframe to an interactive table.\"\n",
              "              style=\"display:none;\">\n",
              "        \n",
              "  <svg xmlns=\"http://www.w3.org/2000/svg\" height=\"24px\"viewBox=\"0 0 24 24\"\n",
              "       width=\"24px\">\n",
              "    <path d=\"M0 0h24v24H0V0z\" fill=\"none\"/>\n",
              "    <path d=\"M18.56 5.44l.94 2.06.94-2.06 2.06-.94-2.06-.94-.94-2.06-.94 2.06-2.06.94zm-11 1L8.5 8.5l.94-2.06 2.06-.94-2.06-.94L8.5 2.5l-.94 2.06-2.06.94zm10 10l.94 2.06.94-2.06 2.06-.94-2.06-.94-.94-2.06-.94 2.06-2.06.94z\"/><path d=\"M17.41 7.96l-1.37-1.37c-.4-.4-.92-.59-1.43-.59-.52 0-1.04.2-1.43.59L10.3 9.45l-7.72 7.72c-.78.78-.78 2.05 0 2.83L4 21.41c.39.39.9.59 1.41.59.51 0 1.02-.2 1.41-.59l7.78-7.78 2.81-2.81c.8-.78.8-2.07 0-2.86zM5.41 20L4 18.59l7.72-7.72 1.47 1.35L5.41 20z\"/>\n",
              "  </svg>\n",
              "      </button>\n",
              "      \n",
              "  <style>\n",
              "    .colab-df-container {\n",
              "      display:flex;\n",
              "      flex-wrap:wrap;\n",
              "      gap: 12px;\n",
              "    }\n",
              "\n",
              "    .colab-df-convert {\n",
              "      background-color: #E8F0FE;\n",
              "      border: none;\n",
              "      border-radius: 50%;\n",
              "      cursor: pointer;\n",
              "      display: none;\n",
              "      fill: #1967D2;\n",
              "      height: 32px;\n",
              "      padding: 0 0 0 0;\n",
              "      width: 32px;\n",
              "    }\n",
              "\n",
              "    .colab-df-convert:hover {\n",
              "      background-color: #E2EBFA;\n",
              "      box-shadow: 0px 1px 2px rgba(60, 64, 67, 0.3), 0px 1px 3px 1px rgba(60, 64, 67, 0.15);\n",
              "      fill: #174EA6;\n",
              "    }\n",
              "\n",
              "    [theme=dark] .colab-df-convert {\n",
              "      background-color: #3B4455;\n",
              "      fill: #D2E3FC;\n",
              "    }\n",
              "\n",
              "    [theme=dark] .colab-df-convert:hover {\n",
              "      background-color: #434B5C;\n",
              "      box-shadow: 0px 1px 3px 1px rgba(0, 0, 0, 0.15);\n",
              "      filter: drop-shadow(0px 1px 2px rgba(0, 0, 0, 0.3));\n",
              "      fill: #FFFFFF;\n",
              "    }\n",
              "  </style>\n",
              "\n",
              "      <script>\n",
              "        const buttonEl =\n",
              "          document.querySelector('#df-358dfc0b-8cbc-4997-b3ab-9bff2ea5850b button.colab-df-convert');\n",
              "        buttonEl.style.display =\n",
              "          google.colab.kernel.accessAllowed ? 'block' : 'none';\n",
              "\n",
              "        async function convertToInteractive(key) {\n",
              "          const element = document.querySelector('#df-358dfc0b-8cbc-4997-b3ab-9bff2ea5850b');\n",
              "          const dataTable =\n",
              "            await google.colab.kernel.invokeFunction('convertToInteractive',\n",
              "                                                     [key], {});\n",
              "          if (!dataTable) return;\n",
              "\n",
              "          const docLinkHtml = 'Like what you see? Visit the ' +\n",
              "            '<a target=\"_blank\" href=https://colab.research.google.com/notebooks/data_table.ipynb>data table notebook</a>'\n",
              "            + ' to learn more about interactive tables.';\n",
              "          element.innerHTML = '';\n",
              "          dataTable['output_type'] = 'display_data';\n",
              "          await google.colab.output.renderOutput(dataTable, element);\n",
              "          const docLink = document.createElement('div');\n",
              "          docLink.innerHTML = docLinkHtml;\n",
              "          element.appendChild(docLink);\n",
              "        }\n",
              "      </script>\n",
              "    </div>\n",
              "  </div>\n",
              "  "
            ]
          },
          "metadata": {},
          "execution_count": 19
        }
      ]
    },
    {
      "cell_type": "markdown",
      "source": [
        "Now here we have converted labels into numerical values."
      ],
      "metadata": {
        "id": "UtOahSjLw3yo"
      }
    },
    {
      "cell_type": "markdown",
      "source": [
        "### 2. Create training and test data"
      ],
      "metadata": {
        "id": "xfLrpR1tw_JG"
      }
    },
    {
      "cell_type": "markdown",
      "source": [
        "Dear, keep in mind that In NLP we will have to create Vocabulary on training data and not on entire data. So before going for Tokenization and vectorization lets devide data into train and test dataset."
      ],
      "metadata": {
        "id": "4_kCmtsnxLTE"
      }
    },
    {
      "cell_type": "code",
      "source": [
        "from sklearn.model_selection import train_test_split"
      ],
      "metadata": {
        "id": "942u31gdxflb"
      },
      "execution_count": null,
      "outputs": []
    },
    {
      "cell_type": "code",
      "source": [
        "#Splitting data into X & Y set\n",
        "sms_train, sms_test, y_train, y_test=train_test_split(data.message, data.label_num, random_state=2)"
      ],
      "metadata": {
        "id": "hjY6lbAXxq9V"
      },
      "execution_count": null,
      "outputs": []
    },
    {
      "cell_type": "code",
      "source": [
        "#Training data\n",
        "print(sms_train.shape)\n",
        "print(y_train.shape)"
      ],
      "metadata": {
        "id": "B02fUNTjyO3v",
        "colab": {
          "base_uri": "https://localhost:8080/"
        },
        "outputId": "b7a2d4f6-cebd-445f-9840-f97f25d5cf31"
      },
      "execution_count": null,
      "outputs": [
        {
          "output_type": "stream",
          "name": "stdout",
          "text": [
            "(4179,)\n",
            "(4179,)\n"
          ]
        }
      ]
    },
    {
      "cell_type": "code",
      "source": [
        "#Printing test data\n",
        "print(sms_test.shape)\n",
        "print(y_test.shape)"
      ],
      "metadata": {
        "colab": {
          "base_uri": "https://localhost:8080/"
        },
        "id": "i0RQSLFzvOWB",
        "outputId": "bd4b92cc-3fee-40d5-ba35-a0745817ed75"
      },
      "execution_count": null,
      "outputs": [
        {
          "output_type": "stream",
          "name": "stdout",
          "text": [
            "(1393,)\n",
            "(1393,)\n"
          ]
        }
      ]
    },
    {
      "cell_type": "markdown",
      "source": [
        "###3. Tokenization & Vectorization"
      ],
      "metadata": {
        "id": "rW9ZhrUWwIh7"
      }
    },
    {
      "cell_type": "markdown",
      "source": [
        "Using CountVectorizer, to get numeric feature"
      ],
      "metadata": {
        "id": "alAaSST4wTwi"
      }
    },
    {
      "cell_type": "code",
      "source": [
        "#Import and instantiate CountVectorizer(With default parameter)\n",
        "from sklearn.feature_extraction.text import CountVectorizer\n",
        "cvect=CountVectorizer()"
      ],
      "metadata": {
        "id": "QR4cg0Wrw08s"
      },
      "execution_count": null,
      "outputs": []
    },
    {
      "cell_type": "code",
      "source": [
        "#Feed sms training data to countvectorizer\n",
        "cvect.fit(sms_train)"
      ],
      "metadata": {
        "colab": {
          "base_uri": "https://localhost:8080/",
          "height": 74
        },
        "id": "ZxbLibOl0MU5",
        "outputId": "7a7806bf-9599-4b1e-c7fc-818408006a32"
      },
      "execution_count": null,
      "outputs": [
        {
          "output_type": "execute_result",
          "data": {
            "text/plain": [
              "CountVectorizer()"
            ],
            "text/html": [
              "<style>#sk-container-id-1 {color: black;background-color: white;}#sk-container-id-1 pre{padding: 0;}#sk-container-id-1 div.sk-toggleable {background-color: white;}#sk-container-id-1 label.sk-toggleable__label {cursor: pointer;display: block;width: 100%;margin-bottom: 0;padding: 0.3em;box-sizing: border-box;text-align: center;}#sk-container-id-1 label.sk-toggleable__label-arrow:before {content: \"▸\";float: left;margin-right: 0.25em;color: #696969;}#sk-container-id-1 label.sk-toggleable__label-arrow:hover:before {color: black;}#sk-container-id-1 div.sk-estimator:hover label.sk-toggleable__label-arrow:before {color: black;}#sk-container-id-1 div.sk-toggleable__content {max-height: 0;max-width: 0;overflow: hidden;text-align: left;background-color: #f0f8ff;}#sk-container-id-1 div.sk-toggleable__content pre {margin: 0.2em;color: black;border-radius: 0.25em;background-color: #f0f8ff;}#sk-container-id-1 input.sk-toggleable__control:checked~div.sk-toggleable__content {max-height: 200px;max-width: 100%;overflow: auto;}#sk-container-id-1 input.sk-toggleable__control:checked~label.sk-toggleable__label-arrow:before {content: \"▾\";}#sk-container-id-1 div.sk-estimator input.sk-toggleable__control:checked~label.sk-toggleable__label {background-color: #d4ebff;}#sk-container-id-1 div.sk-label input.sk-toggleable__control:checked~label.sk-toggleable__label {background-color: #d4ebff;}#sk-container-id-1 input.sk-hidden--visually {border: 0;clip: rect(1px 1px 1px 1px);clip: rect(1px, 1px, 1px, 1px);height: 1px;margin: -1px;overflow: hidden;padding: 0;position: absolute;width: 1px;}#sk-container-id-1 div.sk-estimator {font-family: monospace;background-color: #f0f8ff;border: 1px dotted black;border-radius: 0.25em;box-sizing: border-box;margin-bottom: 0.5em;}#sk-container-id-1 div.sk-estimator:hover {background-color: #d4ebff;}#sk-container-id-1 div.sk-parallel-item::after {content: \"\";width: 100%;border-bottom: 1px solid gray;flex-grow: 1;}#sk-container-id-1 div.sk-label:hover label.sk-toggleable__label {background-color: #d4ebff;}#sk-container-id-1 div.sk-serial::before {content: \"\";position: absolute;border-left: 1px solid gray;box-sizing: border-box;top: 0;bottom: 0;left: 50%;z-index: 0;}#sk-container-id-1 div.sk-serial {display: flex;flex-direction: column;align-items: center;background-color: white;padding-right: 0.2em;padding-left: 0.2em;position: relative;}#sk-container-id-1 div.sk-item {position: relative;z-index: 1;}#sk-container-id-1 div.sk-parallel {display: flex;align-items: stretch;justify-content: center;background-color: white;position: relative;}#sk-container-id-1 div.sk-item::before, #sk-container-id-1 div.sk-parallel-item::before {content: \"\";position: absolute;border-left: 1px solid gray;box-sizing: border-box;top: 0;bottom: 0;left: 50%;z-index: -1;}#sk-container-id-1 div.sk-parallel-item {display: flex;flex-direction: column;z-index: 1;position: relative;background-color: white;}#sk-container-id-1 div.sk-parallel-item:first-child::after {align-self: flex-end;width: 50%;}#sk-container-id-1 div.sk-parallel-item:last-child::after {align-self: flex-start;width: 50%;}#sk-container-id-1 div.sk-parallel-item:only-child::after {width: 0;}#sk-container-id-1 div.sk-dashed-wrapped {border: 1px dashed gray;margin: 0 0.4em 0.5em 0.4em;box-sizing: border-box;padding-bottom: 0.4em;background-color: white;}#sk-container-id-1 div.sk-label label {font-family: monospace;font-weight: bold;display: inline-block;line-height: 1.2em;}#sk-container-id-1 div.sk-label-container {text-align: center;}#sk-container-id-1 div.sk-container {/* jupyter's `normalize.less` sets `[hidden] { display: none; }` but bootstrap.min.css set `[hidden] { display: none !important; }` so we also need the `!important` here to be able to override the default hidden behavior on the sphinx rendered scikit-learn.org. See: https://github.com/scikit-learn/scikit-learn/issues/21755 */display: inline-block !important;position: relative;}#sk-container-id-1 div.sk-text-repr-fallback {display: none;}</style><div id=\"sk-container-id-1\" class=\"sk-top-container\"><div class=\"sk-text-repr-fallback\"><pre>CountVectorizer()</pre><b>In a Jupyter environment, please rerun this cell to show the HTML representation or trust the notebook. <br />On GitHub, the HTML representation is unable to render, please try loading this page with nbviewer.org.</b></div><div class=\"sk-container\" hidden><div class=\"sk-item\"><div class=\"sk-estimator sk-toggleable\"><input class=\"sk-toggleable__control sk-hidden--visually\" id=\"sk-estimator-id-1\" type=\"checkbox\" checked><label for=\"sk-estimator-id-1\" class=\"sk-toggleable__label sk-toggleable__label-arrow\">CountVectorizer</label><div class=\"sk-toggleable__content\"><pre>CountVectorizer()</pre></div></div></div></div></div>"
            ]
          },
          "metadata": {},
          "execution_count": 25
        }
      ]
    },
    {
      "cell_type": "code",
      "source": [
        "#Vocabulary with index number\n",
        "\n",
        "cvect.vocabulary_"
      ],
      "metadata": {
        "colab": {
          "base_uri": "https://localhost:8080/"
        },
        "id": "1RFfCooW0cre",
        "outputId": "130e3438-e92e-4e60-bd9b-2cf074f90bd3"
      },
      "execution_count": null,
      "outputs": [
        {
          "output_type": "execute_result",
          "data": {
            "text/plain": [
              "{'ok': 4703,\n",
              " 'gonna': 3055,\n",
              " 'head': 3219,\n",
              " 'up': 6914,\n",
              " 'to': 6669,\n",
              " 'usf': 6950,\n",
              " 'in': 3493,\n",
              " 'like': 3930,\n",
              " 'fifteen': 2729,\n",
              " 'minutes': 4301,\n",
              " 'that': 6550,\n",
              " 'shame': 5820,\n",
              " 'maybe': 4205,\n",
              " 'cld': 1762,\n",
              " 'meet': 4230,\n",
              " 'for': 2827,\n",
              " 'few': 2718,\n",
              " 'hrs': 3384,\n",
              " 'tomo': 6693,\n",
              " 'will': 7235,\n",
              " 'do': 2283,\n",
              " 'was': 7110,\n",
              " 'exhausted': 2602,\n",
              " 'on': 4722,\n",
              " 'train': 6746,\n",
              " 'this': 6590,\n",
              " 'morning': 4387,\n",
              " 'too': 6709,\n",
              " 'much': 4430,\n",
              " 'wine': 7244,\n",
              " 'and': 920,\n",
              " 'pie': 4983,\n",
              " 'you': 7410,\n",
              " 'sleep': 5975,\n",
              " 'well': 7171,\n",
              " 'be': 1224,\n",
              " 'gentle': 2984,\n",
              " 'princess': 5185,\n",
              " 'we': 7133,\n",
              " 'make': 4137,\n",
              " 'sweet': 6400,\n",
              " 'love': 4043,\n",
              " 'know': 3786,\n",
              " 'people': 4924,\n",
              " 'can': 1576,\n",
              " 'hit': 3294,\n",
              " 'fuck': 2913,\n",
              " 'the': 6553,\n",
              " 'yes': 7394,\n",
              " 'dear': 2105,\n",
              " 'call': 1552,\n",
              " 'tmorrow': 6663,\n",
              " 'pls': 5032,\n",
              " 'accomodate': 752,\n",
              " 'said': 5635,\n",
              " 'text': 6526,\n",
              " 'him': 3286,\n",
              " 'one': 4727,\n",
              " 'more': 4383,\n",
              " 'time': 6636,\n",
              " 'sms': 6019,\n",
              " 'services': 5787,\n",
              " 'your': 7416,\n",
              " 'inclusive': 3501,\n",
              " 'credits': 1990,\n",
              " 'gotto': 3078,\n",
              " 'www': 7349,\n",
              " 'comuk': 1872,\n",
              " 'net': 4537,\n",
              " 'login': 3998,\n",
              " '3qxj9': 450,\n",
              " 'unsubscribe': 6909,\n",
              " 'with': 7261,\n",
              " 'stop': 6246,\n",
              " 'no': 4585,\n",
              " 'extra': 2631,\n",
              " 'charge': 1670,\n",
              " 'help': 3250,\n",
              " '08702840625': 79,\n",
              " '220cm2': 344,\n",
              " '9ae': 708,\n",
              " 'two': 6825,\n",
              " 'teams': 6479,\n",
              " 'waiting': 7079,\n",
              " 'some': 6053,\n",
              " 'players': 5018,\n",
              " 'alrite': 886,\n",
              " 'sam': 5645,\n",
              " 'its': 3609,\n",
              " 'nic': 4563,\n",
              " 'just': 3710,\n",
              " 'checkin': 1694,\n",
              " 'is': 3591,\n",
              " 'ur': 6929,\n",
              " 'number': 4645,\n",
              " 'so': 6039,\n",
              " 'it': 3603,\n",
              " 'my': 4462,\n",
              " 'hope': 3340,\n",
              " 'not': 4619,\n",
              " 'doing': 2304,\n",
              " 'anything': 958,\n",
              " 'drastic': 2345,\n",
              " 'don': 2314,\n",
              " 'dare': 2075,\n",
              " 'sell': 5758,\n",
              " 'pc': 4910,\n",
              " 'or': 4759,\n",
              " 'phone': 4964,\n",
              " 'todays': 6677,\n",
              " 'voda': 7039,\n",
              " 'numbers': 4646,\n",
              " 'ending': 2480,\n",
              " '1225': 267,\n",
              " 'are': 1006,\n",
              " 'selected': 5752,\n",
              " 'receive': 5389,\n",
              " '50award': 518,\n",
              " 'if': 3451,\n",
              " 'have': 3208,\n",
              " 'match': 4184,\n",
              " 'please': 5024,\n",
              " '08712300220': 95,\n",
              " 'quoting': 5310,\n",
              " 'claim': 1750,\n",
              " 'code': 1809,\n",
              " '3100': 422,\n",
              " 'standard': 6191,\n",
              " 'rates': 5342,\n",
              " 'app': 975,\n",
              " 'now': 4631,\n",
              " 'only': 4733,\n",
              " 'took': 6710,\n",
              " 'tablets': 6424,\n",
              " 'reaction': 5362,\n",
              " 'what': 7191,\n",
              " 'did': 2209,\n",
              " 'bank': 1172,\n",
              " 'say': 5679,\n",
              " 'about': 730,\n",
              " 'money': 4371,\n",
              " 'wat': 7116,\n",
              " 'liao': 3909,\n",
              " 'where': 7201,\n",
              " 'still': 6234,\n",
              " 'got': 3072,\n",
              " 'good': 3057,\n",
              " 'lets': 3904,\n",
              " 'thank': 6543,\n",
              " 'god': 3039,\n",
              " 'complete': 1859,\n",
              " 'drug': 2370,\n",
              " 'lots': 4032,\n",
              " 'of': 4679,\n",
              " 'water': 7123,\n",
              " 'beautiful': 1229,\n",
              " 'day': 2093,\n",
              " 'am': 895,\n",
              " 'at': 1070,\n",
              " 'gas': 2958,\n",
              " 'station': 6209,\n",
              " 'go': 3033,\n",
              " 'there': 6570,\n",
              " 'ooh': 4738,\n",
              " '4got': 501,\n",
              " 'start': 6199,\n",
              " 'belly': 1267,\n",
              " 'dancing': 2071,\n",
              " 'moseley': 4390,\n",
              " 'weds': 7152,\n",
              " '30': 408,\n",
              " 'want': 7098,\n",
              " 'join': 3676,\n",
              " 'me': 4212,\n",
              " 'they': 6576,\n",
              " 'cafe': 1544,\n",
              " 'yay': 7381,\n",
              " 'finally': 2746,\n",
              " 'lol': 4002,\n",
              " 'missed': 4312,\n",
              " 'our': 4792,\n",
              " 'cinema': 1746,\n",
              " 'trip': 6773,\n",
              " 'last': 3842,\n",
              " 'week': 7155,\n",
              " 'mm': 4330,\n",
              " 'ask': 1047,\n",
              " 'come': 1833,\n",
              " 'enough': 2499,\n",
              " 'really': 5374,\n",
              " 'dun': 2392,\n",
              " 'bluff': 1358,\n",
              " 'leh': 3889,\n",
              " 'early': 2408,\n",
              " 'nite': 4582,\n",
              " 'message': 4259,\n",
              " 'from': 2904,\n",
              " 'truro': 6788,\n",
              " 'hospital': 3354,\n",
              " 'ext': 2629,\n",
              " 'here': 3262,\n",
              " 'as': 1040,\n",
              " 'by': 1539,\n",
              " 'side': 5912,\n",
              " 'wake': 7080,\n",
              " 'already': 884,\n",
              " 'picking': 4978,\n",
              " 'us': 6943,\n",
              " 'later': 3848,\n",
              " 'rite': 5552,\n",
              " 'taking': 6439,\n",
              " 'sq825': 6176,\n",
              " 'reaching': 5360,\n",
              " 'ard': 1005,\n",
              " 'smth': 6024,\n",
              " 'dat': 2084,\n",
              " 'check': 1691,\n",
              " 'arrival': 1031,\n",
              " 'ya': 7371,\n",
              " 'soon': 6078,\n",
              " 'dont': 2318,\n",
              " 'exactly': 2586,\n",
              " 'could': 1952,\n",
              " 'chechi': 1690,\n",
              " 'dunno': 2394,\n",
              " 'get': 2994,\n",
              " 'her': 3261,\n",
              " 'around': 1026,\n",
              " 'use': 6947,\n",
              " 'half': 3160,\n",
              " '8th': 696,\n",
              " 'should': 5880,\n",
              " 'buy': 1529,\n",
              " 'blackberry': 1326,\n",
              " 'bold': 1368,\n",
              " 'torch': 6724,\n",
              " 'new': 4551,\n",
              " 'used': 6948,\n",
              " 'let': 3903,\n",
              " 'plus': 5037,\n",
              " 'saying': 5682,\n",
              " 'lt': 4067,\n",
              " 'gt': 3124,\n",
              " 'wifi': 7228,\n",
              " 'ipad': 3579,\n",
              " 'll': 3978,\n",
              " 'all': 874,\n",
              " 'creepy': 1992,\n",
              " 'he': 3218,\n",
              " 'won': 7288,\n",
              " 'think': 6582,\n",
              " 'forgot': 2839,\n",
              " 'cause': 1628,\n",
              " 'yelling': 7387,\n",
              " 'scrappy': 5708,\n",
              " 'miss': 4310,\n",
              " 'wait': 7076,\n",
              " 'home': 3324,\n",
              " 'lonely': 4007,\n",
              " 'today': 6676,\n",
              " 'pookie': 5080,\n",
              " 'didn': 2211,\n",
              " 'voicemail': 7043,\n",
              " '08719181513': 147,\n",
              " 'she': 5833,\n",
              " 'find': 2749,\n",
              " 'sent': 5775,\n",
              " 'an': 916,\n",
              " 'offline': 4692,\n",
              " 'how': 3371,\n",
              " 'anjola': 928,\n",
              " 'ooooooh': 4740,\n",
              " 'tell': 6494,\n",
              " 'yoville': 7424,\n",
              " 'eastenders': 2414,\n",
              " 'tv': 6816,\n",
              " 'quiz': 5307,\n",
              " 'flower': 2797,\n",
              " 'does': 2293,\n",
              " 'dot': 2327,\n",
              " 'compare': 1852,\n",
              " 'herself': 3266,\n",
              " 'violet': 7023,\n",
              " 'tulip': 6806,\n",
              " 'lily': 3935,\n",
              " 'txt': 6827,\n",
              " '84025': 651,\n",
              " 'chance': 1658,\n",
              " 'win': 7238,\n",
              " '100': 240,\n",
              " 'cash': 1617,\n",
              " 'wkent': 7271,\n",
              " '150p16': 290,\n",
              " 'tough': 6735,\n",
              " 'but': 1525,\n",
              " 'italian': 3604,\n",
              " 'food': 2821,\n",
              " 'pretty': 5174,\n",
              " 'dress': 2351,\n",
              " 'panties': 4850,\n",
              " 'office': 4688,\n",
              " 'pm': 5040,\n",
              " 'going': 3045,\n",
              " 'anyway': 961,\n",
              " 'holla': 3320,\n",
              " 'whenever': 7198,\n",
              " 're': 5357,\n",
              " 'because': 1232,\n",
              " 'need': 4520,\n",
              " 'excuse': 2594,\n",
              " 'creep': 1991,\n",
              " 'sarasota': 5657,\n",
              " 'tomarrow': 6690,\n",
              " 'court': 1962,\n",
              " 'decimal': 2117,\n",
              " 'bus': 1519,\n",
              " 'stand': 6190,\n",
              " 'send': 5766,\n",
              " 'min': 4283,\n",
              " 'thanx': 6548,\n",
              " 'lot': 4030,\n",
              " 'cute': 2047,\n",
              " 'thought': 6600,\n",
              " 'friendship': 2892,\n",
              " 'necessary': 4516,\n",
              " 'share': 5826,\n",
              " 'every': 2559,\n",
              " 'secret': 5730,\n",
              " 'close': 1775,\n",
              " 'frnd': 2897,\n",
              " 'watever': 7124,\n",
              " 'shared': 5827,\n",
              " 'true': 6785,\n",
              " 'sorry': 6087,\n",
              " 'ever': 2558,\n",
              " 'angry': 924,\n",
              " 'misbehaved': 4306,\n",
              " 'hurt': 3410,\n",
              " 'plz': 5039,\n",
              " 'slap': 5973,\n",
              " 'urself': 6942,\n",
              " 'bcoz': 1219,\n",
              " 'fault': 2688,\n",
              " 'basically': 1192,\n",
              " 'oh': 4698,\n",
              " 'google': 3067,\n",
              " 'nearby': 4511,\n",
              " 'cliffs': 1772,\n",
              " 'meeting': 4232,\n",
              " 'then': 6565,\n",
              " 'lor': 4022,\n",
              " 'feel': 2704,\n",
              " 'comin': 1838,\n",
              " 'keep': 3740,\n",
              " 'payasam': 4901,\n",
              " 'rinu': 5548,\n",
              " 'brings': 1466,\n",
              " 'jus': 3709,\n",
              " 'telling': 6495,\n",
              " 'leaving': 3880,\n",
              " 'shanghai': 5822,\n",
              " '21st': 341,\n",
              " 'instead': 3545,\n",
              " 'haf': 3152,\n",
              " 'cya': 2055,\n",
              " 'sir': 5942,\n",
              " 'salam': 5638,\n",
              " 'alaikkum': 857,\n",
              " 'pride': 5180,\n",
              " 'pleasure': 5027,\n",
              " 'tea': 6473,\n",
              " 'shop': 5867,\n",
              " 'pleased': 5025,\n",
              " 'contact': 1906,\n",
              " 'qatar': 5289,\n",
              " 'rakhesh': 5328,\n",
              " 'indian': 3512,\n",
              " 'save': 5674,\n",
              " 'respectful': 5497,\n",
              " 'regards': 5429,\n",
              " 'coming': 1839,\n",
              " 'dinner': 2236,\n",
              " 'thanks': 6544,\n",
              " 'bomb': 1372,\n",
              " 'date': 2086,\n",
              " 'wanted': 7100,\n",
              " 'usually': 6956,\n",
              " 'take': 6434,\n",
              " 'fucking': 2916,\n",
              " 'respond': 5499,\n",
              " 'question': 5297,\n",
              " 'leave': 3878,\n",
              " 'rct': 5352,\n",
              " 'thnq': 6594,\n",
              " 'adrian': 797,\n",
              " 'rgds': 5531,\n",
              " 'vatian': 6982,\n",
              " '000': 1,\n",
              " 'prize': 5195,\n",
              " 'call09050000327': 1553,\n",
              " 'rstm': 5591,\n",
              " 'sw7': 6389,\n",
              " '3ss': 452,\n",
              " '150ppm': 293,\n",
              " 'somewhr': 6068,\n",
              " 'someone': 6057,\n",
              " 'surely': 6374,\n",
              " 'made': 4115,\n",
              " 'has': 3196,\n",
              " 'decided': 2115,\n",
              " 'perfect': 4928,\n",
              " 'person': 4942,\n",
              " 'till': 6634,\n",
              " 'den': 2155,\n",
              " 'enjoy': 2492,\n",
              " 'crushes': 2008,\n",
              " 'hi': 3275,\n",
              " 'both': 1398,\n",
              " 'would': 7322,\n",
              " 'hasn': 3198,\n",
              " 'seen': 5747,\n",
              " 'down': 2332,\n",
              " 'gently': 2986,\n",
              " 'back': 1146,\n",
              " 'work': 7304,\n",
              " '2morro': 384,\n",
              " 'term': 6511,\n",
              " 'over': 4812,\n",
              " '2nite': 392,\n",
              " 'sexy': 5802,\n",
              " 'passion': 4885,\n",
              " 'b4': 1135,\n",
              " 'chat': 1682,\n",
              " '09099726481': 232,\n",
              " 'luv': 4081,\n",
              " 'dena': 2156,\n",
              " 'calls': 1567,\n",
              " 'minmobsmorelkpobox177hp51fl': 4293,\n",
              " 'pa': 4832,\n",
              " 'knw': 3790,\n",
              " 'who': 7212,\n",
              " 'ru': 5595,\n",
              " 'way': 7130,\n",
              " 'stay': 6210,\n",
              " 'bothering': 1400,\n",
              " 'trust': 6789,\n",
              " 'answers': 944,\n",
              " 'out': 4794,\n",
              " 'class': 1758,\n",
              " 'hours': 3366,\n",
              " 'vivek': 7037,\n",
              " 'complimentary': 1865,\n",
              " 'star': 6194,\n",
              " 'ibiza': 3428,\n",
              " 'holiday': 3319,\n",
              " '10': 239,\n",
              " 'needs': 4525,\n",
              " 'urgent': 6933,\n",
              " 'collection': 1822,\n",
              " '09066364349': 211,\n",
              " 'landline': 3828,\n",
              " 'lose': 4024,\n",
              " 'box434sk38wp150ppm18': 1420,\n",
              " 'care': 1597,\n",
              " 'nyc': 4659,\n",
              " 'audiitions': 1094,\n",
              " 'trying': 6792,\n",
              " 'relocate': 5443,\n",
              " 'moby': 4352,\n",
              " 'pub': 5261,\n",
              " 'high': 3280,\n",
              " 'street': 6265,\n",
              " 'duchess': 2383,\n",
              " 'cornwall': 1934,\n",
              " 'first': 2765,\n",
              " 'name': 4479,\n",
              " '82277': 634,\n",
              " 'unsub': 6908,\n",
              " '50': 515,\n",
              " '008704050406': 3,\n",
              " 'sp': 6107,\n",
              " 'questions': 5299,\n",
              " 'mistake': 4319,\n",
              " 'repeat': 5470,\n",
              " 'instructions': 3547,\n",
              " 'again': 822,\n",
              " 'road': 5554,\n",
              " 'house': 3367,\n",
              " '2nd': 389,\n",
              " 'tried': 6772,\n",
              " '1450': 282,\n",
              " '09053750005': 163,\n",
              " '310303': 423,\n",
              " 'cs': 2011,\n",
              " '08718725756': 132,\n",
              " '140ppm': 280,\n",
              " 'wonder': 7290,\n",
              " 'roger': 5564,\n",
              " 'cl': 1749,\n",
              " 'babes': 1141,\n",
              " 'had': 3151,\n",
              " 'shit': 5854,\n",
              " 'nights': 4574,\n",
              " 'fell': 2710,\n",
              " 'asleep': 1054,\n",
              " 'knackered': 3780,\n",
              " 'dreading': 2348,\n",
              " 'tonight': 6704,\n",
              " 'thou': 6598,\n",
              " 'upto': 6928,\n",
              " 'babe': 1140,\n",
              " 'lost': 4029,\n",
              " 'try': 6791,\n",
              " 'rebooting': 5384,\n",
              " 'oi': 4699,\n",
              " 'when': 7197,\n",
              " 'ring': 5542,\n",
              " 'yup': 7436,\n",
              " 'giving': 3022,\n",
              " 'problems': 5203,\n",
              " 'mayb': 4204,\n",
              " 'yo': 7405,\n",
              " 'howz': 3378,\n",
              " 'girls': 3016,\n",
              " 'never': 4547,\n",
              " 'rang': 5336,\n",
              " 'after': 818,\n",
              " 'india': 3511,\n",
              " 'discussed': 2259,\n",
              " 'mother': 4392,\n",
              " 'ah': 832,\n",
              " 'fighting': 2732,\n",
              " 'world': 7311,\n",
              " 'easy': 2416,\n",
              " 'either': 2447,\n",
              " 'bt': 1493,\n",
              " 'fightng': 2733,\n",
              " 'some1': 6054,\n",
              " 'dificult': 2224,\n",
              " 'hear': 3228,\n",
              " 'see': 5739,\n",
              " 'sundayish': 6349,\n",
              " '0a': 237,\n",
              " 'networks': 4544,\n",
              " 'allow': 879,\n",
              " 'companies': 1849,\n",
              " 'bill': 1302,\n",
              " 'responsible': 5504,\n",
              " 'their': 6559,\n",
              " 'suppliers': 6363,\n",
              " 'give': 3019,\n",
              " 'guarantee': 3127,\n",
              " 'crazy': 1982,\n",
              " 'great': 3105,\n",
              " 'attracts': 1090,\n",
              " 'brothas': 1478,\n",
              " 'mum': 4439,\n",
              " 'lookin': 4014,\n",
              " 'strong': 6279,\n",
              " 'okie': 4707,\n",
              " 'fwiw': 2935,\n",
              " 'reason': 5379,\n",
              " 'smoke': 6014,\n",
              " 'afford': 814,\n",
              " 'tells': 6497,\n",
              " 'apparently': 976,\n",
              " 'happens': 3181,\n",
              " 'somebody': 6055,\n",
              " 'wants': 7102,\n",
              " 'light': 3926,\n",
              " 'very': 7000,\n",
              " 'nice': 4564,\n",
              " 'ready': 5367,\n",
              " 'thursday': 6620,\n",
              " 'askd': 1048,\n",
              " 'before': 1250,\n",
              " 'answer': 940,\n",
              " 'dine': 2232,\n",
              " 'lady': 3817,\n",
              " 'freemsg': 2876,\n",
              " 'hey': 3271,\n",
              " 'darling': 2080,\n",
              " 'been': 1244,\n",
              " 'word': 7302,\n",
              " 'fun': 2923,\n",
              " 'tb': 6467,\n",
              " 'xxx': 7364,\n",
              " 'std': 6215,\n",
              " 'chgs': 1711,\n",
              " 'rcv': 5353,\n",
              " 'winner': 7245,\n",
              " 'specially': 6123,\n",
              " '1000': 241,\n",
              " 'flights': 2790,\n",
              " 'inc': 3495,\n",
              " 'speak': 6118,\n",
              " 'live': 3970,\n",
              " 'operator': 4749,\n",
              " '0871277810910p': 110,\n",
              " '18': 303,\n",
              " 'any': 950,\n",
              " 'might': 4275,\n",
              " 'evaporated': 2549,\n",
              " 'violated': 7021,\n",
              " 'privacy': 5192,\n",
              " 'stealing': 6219,\n",
              " 'employer': 2474,\n",
              " 'paperwork': 4855,\n",
              " 'cool': 1929,\n",
              " 'report': 5479,\n",
              " 'supervisor': 6361,\n",
              " 'iouri': 3576,\n",
              " 'gave': 2963,\n",
              " 'wylie': 7350,\n",
              " 'ryan': 5618,\n",
              " 'friend': 2890,\n",
              " 'convey': 1922,\n",
              " 'best': 1279,\n",
              " 'exam': 2587,\n",
              " 'reunion': 5522,\n",
              " 'probably': 5200,\n",
              " 'pick': 4976,\n",
              " 'boys': 1427,\n",
              " 'problem': 5201,\n",
              " 'granite': 3095,\n",
              " 'issues': 3601,\n",
              " 'explosive': 2623,\n",
              " 'members': 4243,\n",
              " '300': 409,\n",
              " 'nasdaq': 4491,\n",
              " 'symbol': 6415,\n",
              " 'cdgt': 1637,\n",
              " '00': 0,\n",
              " 'per': 4926,\n",
              " 'shopping': 5869,\n",
              " 'them': 6561,\n",
              " 'raining': 5321,\n",
              " 'mah': 4125,\n",
              " 'hard': 3187,\n",
              " 'orchard': 4766,\n",
              " 'free2day': 2870,\n",
              " 'st': 6182,\n",
              " 'george': 2990,\n",
              " 'pic': 4975,\n",
              " 'jordan': 3688,\n",
              " '89080': 685,\n",
              " 'wk': 7269,\n",
              " 'saucy': 5671,\n",
              " 'celeb': 1641,\n",
              " 'pics': 4979,\n",
              " 'pocketbabe': 5059,\n",
              " 'co': 1799,\n",
              " 'uk': 6850,\n",
              " '0870241182716': 77,\n",
              " 'course': 1961,\n",
              " 'maths': 4192,\n",
              " 'chapter': 1667,\n",
              " 'month': 4376,\n",
              " 'finish': 2754,\n",
              " 'stupid': 6299,\n",
              " 'possible': 5102,\n",
              " 'inside': 3539,\n",
              " 'outside': 4805,\n",
              " 'bedroom': 1241,\n",
              " '09066649731from': 219,\n",
              " 'await': 1121,\n",
              " 'sae': 5628,\n",
              " 'po': 5042,\n",
              " 'box': 1409,\n",
              " '434': 471,\n",
              " 'sk3': 5958,\n",
              " '8wp': 697,\n",
              " 'hopeing': 3344,\n",
              " 'wasn': 7111,\n",
              " 'pissed': 4997,\n",
              " 'remember': 5449,\n",
              " 'gone': 3053,\n",
              " 'off': 4680,\n",
              " 'his': 3292,\n",
              " 'sisters': 5946,\n",
              " 'something': 6061,\n",
              " 'hiya': 3300,\n",
              " 'hav': 3205,\n",
              " 'signal': 5917,\n",
              " 'haven': 3209,\n",
              " 'heard': 3229,\n",
              " 'neither': 4533,\n",
              " 'which': 7206,\n",
              " 'unusual': 6913,\n",
              " 'itself': 3610,\n",
              " 'put': 5283,\n",
              " 'case': 1616,\n",
              " 'sort': 6088,\n",
              " 'hugs': 3393,\n",
              " 'snogs': 6032,\n",
              " 'yetty': 7398,\n",
              " 'smart': 6001,\n",
              " '200': 329,\n",
              " 'weekly': 7159,\n",
              " 'play': 5015,\n",
              " '85222': 659,\n",
              " 'winnersclub': 7246,\n",
              " '84': 650,\n",
              " 'm26': 4092,\n",
              " '3uz': 453,\n",
              " '16': 298,\n",
              " 'gbp1': 2969,\n",
              " '447801259231': 476,\n",
              " 'admirer': 791,\n",
              " 'looking': 4015,\n",
              " 'reveal': 5523,\n",
              " 'thinks': 6586,\n",
              " 'special': 6120,\n",
              " '09058094597': 173,\n",
              " 'evening': 2553,\n",
              " 'having': 3213,\n",
              " 'bring': 1464,\n",
              " 'notice': 4624,\n",
              " 'late': 3845,\n",
              " 'paying': 4905,\n",
              " 'rent': 5464,\n",
              " 'past': 4889,\n",
              " 'months': 4379,\n",
              " 'pay': 4900,\n",
              " 'felt': 2712,\n",
              " 'inconsiderate': 3503,\n",
              " 'nag': 4473,\n",
              " 'cost': 1943,\n",
              " 'yourself': 7421,\n",
              " 'why': 7219,\n",
              " 'didnt': 2212,\n",
              " 'however': 3375,\n",
              " 'recession': 5396,\n",
              " 'wont': 7294,\n",
              " 'able': 728,\n",
              " 'hence': 3258,\n",
              " 'askin': 1050,\n",
              " 'ahead': 834,\n",
              " 'end': 2478,\n",
              " 'everything': 2568,\n",
              " 'smoking': 6018,\n",
              " 'through': 6609,\n",
              " 'difficult': 2223,\n",
              " 'receipts': 5388,\n",
              " 'done': 2316,\n",
              " 'march': 4165,\n",
              " 'truth': 6790,\n",
              " 'against': 823,\n",
              " 'gravity': 3100,\n",
              " 'read': 5363,\n",
              " 'carefully': 1603,\n",
              " 'heart': 3231,\n",
              " 'feels': 2707,\n",
              " 'heavy': 3238,\n",
              " 'leaves': 3879,\n",
              " 'night': 4571,\n",
              " 'tonite': 6706,\n",
              " 'search': 5722,\n",
              " 'opportunity': 4753,\n",
              " 'went': 7177,\n",
              " 'fast': 2680,\n",
              " 'add': 780,\n",
              " 'prayers': 5142,\n",
              " 'double': 2328,\n",
              " 'eviction': 2572,\n",
              " 'spiral': 6144,\n",
              " 'michael': 4271,\n",
              " 'riddance': 5537,\n",
              " 'sore': 6084,\n",
              " 'throat': 6608,\n",
              " 'scratches': 5709,\n",
              " 'talk': 6441,\n",
              " 'describe': 2171,\n",
              " 'lucky': 4074,\n",
              " 'actually': 777,\n",
              " 'awake': 1123,\n",
              " 'noon': 4602,\n",
              " 'ringtone': 5545,\n",
              " 'club': 1784,\n",
              " 'gr8': 3083,\n",
              " 'polys': 5076,\n",
              " 'direct': 2241,\n",
              " 'mobile': 4343,\n",
              " 'rofl': 5563,\n",
              " 'thats': 6552,\n",
              " 'cover': 1965,\n",
              " 'face': 2642,\n",
              " 'hot': 3359,\n",
              " 'sticky': 6231,\n",
              " 'cum': 2033,\n",
              " 'nooooooo': 4603,\n",
              " 'bored': 1390,\n",
              " 'death': 2109,\n",
              " 'cable': 1543,\n",
              " 'internet': 3557,\n",
              " 'outage': 4795,\n",
              " 'watch': 7117,\n",
              " 'saw': 5678,\n",
              " 'swatch': 6396,\n",
              " 'thk': 6591,\n",
              " 'quite': 5304,\n",
              " '116': 259,\n",
              " 'opinion': 4750,\n",
              " 'badrith': 1152,\n",
              " 'chennai': 1705,\n",
              " 'competition': 1854,\n",
              " 'loved': 4044,\n",
              " 'anyone': 954,\n",
              " 'except': 2590,\n",
              " 'gud': 3129,\n",
              " 'nit': 4581,\n",
              " 'andros': 922,\n",
              " 'steal': 6218,\n",
              " 'ice': 3434,\n",
              " 'temales': 6501,\n",
              " 'wonderful': 7291,\n",
              " '2waxsto': 402,\n",
              " 'ill': 3465,\n",
              " 'medical': 4226,\n",
              " 'insurance': 3548,\n",
              " 'deliver': 2147,\n",
              " 'basic': 1191,\n",
              " 'currently': 2038,\n",
              " 'right': 5539,\n",
              " 'til': 6633,\n",
              " 'friday': 2886,\n",
              " 'major': 4136,\n",
              " 'guide': 3136,\n",
              " 'dollars': 2310,\n",
              " 'da': 2059,\n",
              " 'days': 2094,\n",
              " 'billion': 1305,\n",
              " 'classes': 1759,\n",
              " 'theoretically': 6567,\n",
              " 'yeah': 7383,\n",
              " 'write': 7329,\n",
              " 'msg': 4413,\n",
              " 'dictionary': 2208,\n",
              " 'mode': 4354,\n",
              " 'screen': 5714,\n",
              " 'hand': 3166,\n",
              " 'press': 5168,\n",
              " 'remove': 5459,\n",
              " 'interesting': 3554,\n",
              " 'womdarfull': 7286,\n",
              " 'actor': 775,\n",
              " 'jst': 3695,\n",
              " 'change': 1660,\n",
              " 'tat': 6457,\n",
              " 'busy': 1524,\n",
              " 'year': 7384,\n",
              " 'forward': 2851,\n",
              " 'electricity': 2458,\n",
              " 'fml': 2805,\n",
              " 'actual': 776,\n",
              " 'harder': 3189,\n",
              " 'than': 6540,\n",
              " 'nbme': 4507,\n",
              " 'makes': 4138,\n",
              " 'dearer': 2107,\n",
              " 'de': 2099,\n",
              " 'happiness': 3185,\n",
              " 'pain': 4839,\n",
              " 'dem': 2153,\n",
              " 'polyphonic': 5075,\n",
              " 'tone': 6697,\n",
              " 'mob': 4341,\n",
              " 'pt2': 5258,\n",
              " '87575': 675,\n",
              " '1st': 317,\n",
              " 'free': 2869,\n",
              " 'txtin': 6832,\n",
              " 'friends': 2891,\n",
              " '150p': 289,\n",
              " 'reply': 5477,\n",
              " 'hl': 3301,\n",
              " '4info': 503,\n",
              " 'thru': 6614,\n",
              " 'different': 2222,\n",
              " 'feeling': 2706,\n",
              " 'wavering': 7129,\n",
              " 'decisions': 2119,\n",
              " 'coping': 1931,\n",
              " 'same': 5648,\n",
              " 'individual': 3515,\n",
              " 'heal': 3225,\n",
              " 'believe': 1263,\n",
              " 'northampton': 4614,\n",
              " 'afraid': 815,\n",
              " 'staying': 6213,\n",
              " 'skyving': 5971,\n",
              " 'ho': 3310,\n",
              " 'wednesday': 7151,\n",
              " 'though': 6599,\n",
              " 'fancy': 2671,\n",
              " 'comedy': 1834,\n",
              " 'hello': 3248,\n",
              " 'baby': 1143,\n",
              " 'mom': 4364,\n",
              " 'setting': 5790,\n",
              " 'computer': 1869,\n",
              " 'filling': 2740,\n",
              " 'goes': 3041,\n",
              " 'loverboy': 4049,\n",
              " 'sighs': 5914,\n",
              " 'waaaat': 7069,\n",
              " 'lololo': 4004,\n",
              " 'next': 4560,\n",
              " 'nationwide': 4499,\n",
              " 'auto': 1105,\n",
              " 'centre': 1647,\n",
              " 'newport': 4554,\n",
              " 'liked': 3931,\n",
              " 'many': 4159,\n",
              " 'dependents': 2164,\n",
              " 'ic': 3432,\n",
              " 'lotta': 4035,\n",
              " 'childporn': 1720,\n",
              " 'cars': 1613,\n",
              " 'kicks': 3761,\n",
              " 'definitely': 2134,\n",
              " 'module': 4357,\n",
              " 'humanities': 3397,\n",
              " 'dis': 2247,\n",
              " 'sem': 5761,\n",
              " 'izzit': 3618,\n",
              " 'wan': 7093,\n",
              " 'other': 4785,\n",
              " 'modules': 4358,\n",
              " 'lovely': 4046,\n",
              " 'smell': 6004,\n",
              " 'ain': 842,\n",
              " 'tobacco': 6672,\n",
              " 'tonexs': 6701,\n",
              " 'subscription': 6316,\n",
              " 'renewed': 5462,\n",
              " 'charged': 1671,\n",
              " 'choose': 1735,\n",
              " 'clubzed': 1789,\n",
              " 'billing': 1304,\n",
              " 'bath': 1199,\n",
              " 'place': 5003,\n",
              " 'key': 3750,\n",
              " 'window': 7240,\n",
              " 'ugh': 6847,\n",
              " 'wanna': 7096,\n",
              " 'bed': 1238,\n",
              " 'warm': 7104,\n",
              " 'bad': 1149,\n",
              " 'girl': 3013,\n",
              " 'registered': 5431,\n",
              " 'subscribers': 6315,\n",
              " 'enter': 2501,\n",
              " 'draw': 2346,\n",
              " 'gift': 3005,\n",
              " 'voucher': 7052,\n",
              " 'replying': 5478,\n",
              " 'awarded': 1125,\n",
              " '2000': 330,\n",
              " 'guaranteed': 3128,\n",
              " '09058094454': 167,\n",
              " 'land': 3826,\n",
              " 'line': 3940,\n",
              " '3030': 414,\n",
              " 'valid': 6970,\n",
              " '12hrs': 273,\n",
              " 'congratulations': 1894,\n",
              " 've': 6986,\n",
              " 'august': 1098,\n",
              " '09066660100': 220,\n",
              " '2309': 345,\n",
              " 'happy': 3186,\n",
              " 'guys': 3142,\n",
              " 'asking': 1051,\n",
              " 'slippers': 5988,\n",
              " 'nope': 4605,\n",
              " 'since': 5933,\n",
              " 'ayo': 1134,\n",
              " 'travelled': 6759,\n",
              " 'forgotten': 2840,\n",
              " 'guy': 3141,\n",
              " 'cant': 1586,\n",
              " 'awesome': 1127,\n",
              " 'diesel': 2215,\n",
              " 'subscribed': 6313,\n",
              " 'content': 1910,\n",
              " 'service': 5786,\n",
              " 'ten': 6505,\n",
              " 'until': 6912,\n",
              " '83435': 647,\n",
              " 'helpline': 3256,\n",
              " '08706091795': 83,\n",
              " 'yet': 7397,\n",
              " 'chikku': 1717,\n",
              " 'room': 5571,\n",
              " 'nw': 4656,\n",
              " 'nokia': 4592,\n",
              " 'nok': 4591,\n",
              " '87021': 666,\n",
              " 'top': 6717,\n",
              " ...}"
            ]
          },
          "metadata": {},
          "execution_count": 26
        }
      ]
    },
    {
      "cell_type": "code",
      "source": [
        "#Words in the vocabulary\n",
        "\n",
        "print(cvect.get_feature_names_out())"
      ],
      "metadata": {
        "colab": {
          "base_uri": "https://localhost:8080/"
        },
        "id": "iHn0oAu10fln",
        "outputId": "d98a6e2c-d3f2-4fad-8d5f-9d2012cd8e92"
      },
      "execution_count": null,
      "outputs": [
        {
          "output_type": "stream",
          "name": "stdout",
          "text": [
            "['00' '000' '000pes' ... 'zouk' 'ú1' '〨ud']\n"
          ]
        }
      ]
    },
    {
      "cell_type": "code",
      "source": [
        "#Length of vacabulary\n",
        "\n",
        "len(cvect.vocabulary_)"
      ],
      "metadata": {
        "colab": {
          "base_uri": "https://localhost:8080/"
        },
        "id": "bqpAZYeT0lA2",
        "outputId": "c448d548-93af-461c-9ebf-7a2b6088c36e"
      },
      "execution_count": null,
      "outputs": [
        {
          "output_type": "execute_result",
          "data": {
            "text/plain": [
              "7450"
            ]
          },
          "metadata": {},
          "execution_count": 32
        }
      ]
    },
    {
      "cell_type": "markdown",
      "source": [
        "###Building Documentg Term Matrix"
      ],
      "metadata": {
        "id": "JANvANVW1raX"
      }
    },
    {
      "cell_type": "code",
      "source": [
        "#Conevert training sms messages into count vectors\n",
        "X_train_ct=cvect.transform(sms_train)"
      ],
      "metadata": {
        "id": "7gkV42lh4bSa"
      },
      "execution_count": null,
      "outputs": []
    },
    {
      "cell_type": "code",
      "source": [
        "X_train_ct.shape"
      ],
      "metadata": {
        "colab": {
          "base_uri": "https://localhost:8080/"
        },
        "id": "X9-UmoKH4rVO",
        "outputId": "dd7df5ba-069c-44d5-8a4a-e16b1608de5a"
      },
      "execution_count": null,
      "outputs": [
        {
          "output_type": "execute_result",
          "data": {
            "text/plain": [
              "(4179, 7450)"
            ]
          },
          "metadata": {},
          "execution_count": 34
        }
      ]
    },
    {
      "cell_type": "code",
      "source": [
        "#Lets check the records\n",
        "sms_train[0]"
      ],
      "metadata": {
        "colab": {
          "base_uri": "https://localhost:8080/",
          "height": 35
        },
        "id": "VJi7NeEg4thQ",
        "outputId": "9a464fed-5b15-4365-9d62-6298b5f8e56a"
      },
      "execution_count": null,
      "outputs": [
        {
          "output_type": "execute_result",
          "data": {
            "text/plain": [
              "'Go until jurong point, crazy.. Available only in bugis n great world la e buffet... Cine there got amore wat...'"
            ],
            "application/vnd.google.colaboratory.intrinsic+json": {
              "type": "string"
            }
          },
          "metadata": {},
          "execution_count": 35
        }
      ]
    },
    {
      "cell_type": "code",
      "source": [
        "X_train_ct[0]"
      ],
      "metadata": {
        "colab": {
          "base_uri": "https://localhost:8080/"
        },
        "id": "T9ou7lX95Ifc",
        "outputId": "77a719a4-2390-4f1c-aa2a-5c65bf48b497"
      },
      "execution_count": null,
      "outputs": [
        {
          "output_type": "execute_result",
          "data": {
            "text/plain": [
              "<1x7450 sparse matrix of type '<class 'numpy.int64'>'\n",
              "\twith 10 stored elements in Compressed Sparse Row format>"
            ]
          },
          "metadata": {},
          "execution_count": 36
        }
      ]
    },
    {
      "cell_type": "code",
      "source": [
        "#Whats there in sparse matrix\n",
        "print(X_train_ct[0])"
      ],
      "metadata": {
        "colab": {
          "base_uri": "https://localhost:8080/"
        },
        "id": "bZgaefz65OLi",
        "outputId": "f4c08b9e-104a-4197-ceb8-052b0524dbc7"
      },
      "execution_count": null,
      "outputs": [
        {
          "output_type": "stream",
          "name": "stdout",
          "text": [
            "  (0, 2729)\t1\n",
            "  (0, 3055)\t1\n",
            "  (0, 3219)\t1\n",
            "  (0, 3493)\t1\n",
            "  (0, 3930)\t1\n",
            "  (0, 4301)\t1\n",
            "  (0, 4703)\t1\n",
            "  (0, 6669)\t1\n",
            "  (0, 6914)\t1\n",
            "  (0, 6950)\t1\n"
          ]
        }
      ]
    },
    {
      "cell_type": "code",
      "source": [
        "#Convert test data into numerical features too\n",
        "\n",
        "X_test_ct=cvect.transform(sms_test)"
      ],
      "metadata": {
        "id": "UiK0JHEs5b6j"
      },
      "execution_count": null,
      "outputs": []
    },
    {
      "cell_type": "code",
      "source": [
        "print(X_test_ct[0])"
      ],
      "metadata": {
        "colab": {
          "base_uri": "https://localhost:8080/"
        },
        "id": "LrbqjwqT6kta",
        "outputId": "9dc19345-6e5c-49e8-f83f-941e82a30b16"
      },
      "execution_count": null,
      "outputs": [
        {
          "output_type": "stream",
          "name": "stdout",
          "text": [
            "  (0, 937)\t1\n",
            "  (0, 1149)\t1\n",
            "  (0, 1622)\t1\n",
            "  (0, 2093)\t1\n",
            "  (0, 2293)\t1\n",
            "  (0, 2478)\t1\n",
            "  (0, 3196)\t1\n",
            "  (0, 3451)\t1\n",
            "  (0, 3609)\t2\n",
            "  (0, 4462)\t1\n",
            "  (0, 4619)\t1\n",
            "  (0, 4720)\t1\n",
            "  (0, 4727)\t1\n",
            "  (0, 6580)\t1\n",
            "  (0, 6590)\t1\n",
            "  (0, 7197)\t1\n"
          ]
        }
      ]
    },
    {
      "cell_type": "code",
      "source": [
        "X_test_ct.shape"
      ],
      "metadata": {
        "colab": {
          "base_uri": "https://localhost:8080/"
        },
        "id": "EHVmx3hz616l",
        "outputId": "59f6046e-a9af-4665-9292-f9830b70b7c7"
      },
      "execution_count": null,
      "outputs": [
        {
          "output_type": "execute_result",
          "data": {
            "text/plain": [
              "(1393, 7450)"
            ]
          },
          "metadata": {},
          "execution_count": 41
        }
      ]
    },
    {
      "cell_type": "code",
      "source": [
        "y_test.shape"
      ],
      "metadata": {
        "colab": {
          "base_uri": "https://localhost:8080/"
        },
        "id": "gJtyTaUY7FEo",
        "outputId": "b465b6d4-b193-4fc5-e1e8-c8c965d997b2"
      },
      "execution_count": null,
      "outputs": [
        {
          "output_type": "execute_result",
          "data": {
            "text/plain": [
              "(1393,)"
            ]
          },
          "metadata": {},
          "execution_count": 42
        }
      ]
    },
    {
      "cell_type": "markdown",
      "source": [
        "###4. Build a SMS classifier"
      ],
      "metadata": {
        "id": "Zs8TN7x77SJs"
      }
    },
    {
      "cell_type": "markdown",
      "source": [
        "Lets first try K-Nearest Nigbour algorithm"
      ],
      "metadata": {
        "id": "Xx56xUju76E4"
      }
    },
    {
      "cell_type": "code",
      "source": [
        "from sklearn.neighbors import KNeighborsClassifier"
      ],
      "metadata": {
        "id": "enJHr0VI8BXQ"
      },
      "execution_count": null,
      "outputs": []
    },
    {
      "cell_type": "code",
      "source": [
        "#Instantiate the model with default parameter\n",
        "knn=KNeighborsClassifier()"
      ],
      "metadata": {
        "id": "K_yqrYcC8NwC"
      },
      "execution_count": null,
      "outputs": []
    },
    {
      "cell_type": "code",
      "source": [
        "#Fit the model on the dataset\n",
        "knn.fit(X_train_ct, y_train)"
      ],
      "metadata": {
        "colab": {
          "base_uri": "https://localhost:8080/",
          "height": 74
        },
        "id": "B6wW9Kah8yav",
        "outputId": "b7e526e8-83cf-40d3-c1e0-2ebd5753854c"
      },
      "execution_count": null,
      "outputs": [
        {
          "output_type": "execute_result",
          "data": {
            "text/plain": [
              "KNeighborsClassifier()"
            ],
            "text/html": [
              "<style>#sk-container-id-2 {color: black;background-color: white;}#sk-container-id-2 pre{padding: 0;}#sk-container-id-2 div.sk-toggleable {background-color: white;}#sk-container-id-2 label.sk-toggleable__label {cursor: pointer;display: block;width: 100%;margin-bottom: 0;padding: 0.3em;box-sizing: border-box;text-align: center;}#sk-container-id-2 label.sk-toggleable__label-arrow:before {content: \"▸\";float: left;margin-right: 0.25em;color: #696969;}#sk-container-id-2 label.sk-toggleable__label-arrow:hover:before {color: black;}#sk-container-id-2 div.sk-estimator:hover label.sk-toggleable__label-arrow:before {color: black;}#sk-container-id-2 div.sk-toggleable__content {max-height: 0;max-width: 0;overflow: hidden;text-align: left;background-color: #f0f8ff;}#sk-container-id-2 div.sk-toggleable__content pre {margin: 0.2em;color: black;border-radius: 0.25em;background-color: #f0f8ff;}#sk-container-id-2 input.sk-toggleable__control:checked~div.sk-toggleable__content {max-height: 200px;max-width: 100%;overflow: auto;}#sk-container-id-2 input.sk-toggleable__control:checked~label.sk-toggleable__label-arrow:before {content: \"▾\";}#sk-container-id-2 div.sk-estimator input.sk-toggleable__control:checked~label.sk-toggleable__label {background-color: #d4ebff;}#sk-container-id-2 div.sk-label input.sk-toggleable__control:checked~label.sk-toggleable__label {background-color: #d4ebff;}#sk-container-id-2 input.sk-hidden--visually {border: 0;clip: rect(1px 1px 1px 1px);clip: rect(1px, 1px, 1px, 1px);height: 1px;margin: -1px;overflow: hidden;padding: 0;position: absolute;width: 1px;}#sk-container-id-2 div.sk-estimator {font-family: monospace;background-color: #f0f8ff;border: 1px dotted black;border-radius: 0.25em;box-sizing: border-box;margin-bottom: 0.5em;}#sk-container-id-2 div.sk-estimator:hover {background-color: #d4ebff;}#sk-container-id-2 div.sk-parallel-item::after {content: \"\";width: 100%;border-bottom: 1px solid gray;flex-grow: 1;}#sk-container-id-2 div.sk-label:hover label.sk-toggleable__label {background-color: #d4ebff;}#sk-container-id-2 div.sk-serial::before {content: \"\";position: absolute;border-left: 1px solid gray;box-sizing: border-box;top: 0;bottom: 0;left: 50%;z-index: 0;}#sk-container-id-2 div.sk-serial {display: flex;flex-direction: column;align-items: center;background-color: white;padding-right: 0.2em;padding-left: 0.2em;position: relative;}#sk-container-id-2 div.sk-item {position: relative;z-index: 1;}#sk-container-id-2 div.sk-parallel {display: flex;align-items: stretch;justify-content: center;background-color: white;position: relative;}#sk-container-id-2 div.sk-item::before, #sk-container-id-2 div.sk-parallel-item::before {content: \"\";position: absolute;border-left: 1px solid gray;box-sizing: border-box;top: 0;bottom: 0;left: 50%;z-index: -1;}#sk-container-id-2 div.sk-parallel-item {display: flex;flex-direction: column;z-index: 1;position: relative;background-color: white;}#sk-container-id-2 div.sk-parallel-item:first-child::after {align-self: flex-end;width: 50%;}#sk-container-id-2 div.sk-parallel-item:last-child::after {align-self: flex-start;width: 50%;}#sk-container-id-2 div.sk-parallel-item:only-child::after {width: 0;}#sk-container-id-2 div.sk-dashed-wrapped {border: 1px dashed gray;margin: 0 0.4em 0.5em 0.4em;box-sizing: border-box;padding-bottom: 0.4em;background-color: white;}#sk-container-id-2 div.sk-label label {font-family: monospace;font-weight: bold;display: inline-block;line-height: 1.2em;}#sk-container-id-2 div.sk-label-container {text-align: center;}#sk-container-id-2 div.sk-container {/* jupyter's `normalize.less` sets `[hidden] { display: none; }` but bootstrap.min.css set `[hidden] { display: none !important; }` so we also need the `!important` here to be able to override the default hidden behavior on the sphinx rendered scikit-learn.org. See: https://github.com/scikit-learn/scikit-learn/issues/21755 */display: inline-block !important;position: relative;}#sk-container-id-2 div.sk-text-repr-fallback {display: none;}</style><div id=\"sk-container-id-2\" class=\"sk-top-container\"><div class=\"sk-text-repr-fallback\"><pre>KNeighborsClassifier()</pre><b>In a Jupyter environment, please rerun this cell to show the HTML representation or trust the notebook. <br />On GitHub, the HTML representation is unable to render, please try loading this page with nbviewer.org.</b></div><div class=\"sk-container\" hidden><div class=\"sk-item\"><div class=\"sk-estimator sk-toggleable\"><input class=\"sk-toggleable__control sk-hidden--visually\" id=\"sk-estimator-id-2\" type=\"checkbox\" checked><label for=\"sk-estimator-id-2\" class=\"sk-toggleable__label sk-toggleable__label-arrow\">KNeighborsClassifier</label><div class=\"sk-toggleable__content\"><pre>KNeighborsClassifier()</pre></div></div></div></div></div>"
            ]
          },
          "metadata": {},
          "execution_count": 45
        }
      ]
    },
    {
      "cell_type": "markdown",
      "source": [
        "####Evaluation of the Model"
      ],
      "metadata": {
        "id": "xmv4l7is894b"
      }
    },
    {
      "cell_type": "code",
      "source": [
        "from sklearn import metrics"
      ],
      "metadata": {
        "id": "vAW_GcCG9VkU"
      },
      "execution_count": null,
      "outputs": []
    },
    {
      "cell_type": "code",
      "source": [
        "#Calculate the accuracy on the training dataset\n",
        "metrics.accuracy_score(y_train, knn.predict(X_train_ct))"
      ],
      "metadata": {
        "colab": {
          "base_uri": "https://localhost:8080/"
        },
        "id": "J_55m2-t9kIk",
        "outputId": "f25b31a2-6b6e-4201-bbf4-e54fc094e051"
      },
      "execution_count": null,
      "outputs": [
        {
          "output_type": "execute_result",
          "data": {
            "text/plain": [
              "0.9308446996889208"
            ]
          },
          "metadata": {},
          "execution_count": 47
        }
      ]
    },
    {
      "cell_type": "code",
      "source": [
        "#Calculate the accuracy ion the test data\n",
        "metrics.accuracy_score(y_test, knn.predict(X_test_ct))"
      ],
      "metadata": {
        "colab": {
          "base_uri": "https://localhost:8080/"
        },
        "id": "LzTSdoBr98Tn",
        "outputId": "e40c6de2-76bf-4ef4-f5b7-be9ea144cdf6"
      },
      "execution_count": null,
      "outputs": [
        {
          "output_type": "execute_result",
          "data": {
            "text/plain": [
              "0.9095477386934674"
            ]
          },
          "metadata": {},
          "execution_count": 48
        }
      ]
    },
    {
      "cell_type": "markdown",
      "source": [
        "####Building a classifer using SVM"
      ],
      "metadata": {
        "id": "-YO1vwoa-NIW"
      }
    },
    {
      "cell_type": "code",
      "source": [
        "\n",
        "from sklearn.svm import SVC"
      ],
      "metadata": {
        "id": "fg2Y1FFK-6Ne"
      },
      "execution_count": null,
      "outputs": []
    },
    {
      "cell_type": "code",
      "source": [
        "svc=SVC()"
      ],
      "metadata": {
        "id": "JWEvB6CN-_CM"
      },
      "execution_count": null,
      "outputs": []
    },
    {
      "cell_type": "code",
      "source": [
        "svc.fit(X_train_ct, y_train)"
      ],
      "metadata": {
        "colab": {
          "base_uri": "https://localhost:8080/",
          "height": 74
        },
        "id": "JCObfGEv_IPz",
        "outputId": "ac0640c3-fa10-4065-8ad0-53207044c346"
      },
      "execution_count": null,
      "outputs": [
        {
          "output_type": "execute_result",
          "data": {
            "text/plain": [
              "SVC()"
            ],
            "text/html": [
              "<style>#sk-container-id-3 {color: black;background-color: white;}#sk-container-id-3 pre{padding: 0;}#sk-container-id-3 div.sk-toggleable {background-color: white;}#sk-container-id-3 label.sk-toggleable__label {cursor: pointer;display: block;width: 100%;margin-bottom: 0;padding: 0.3em;box-sizing: border-box;text-align: center;}#sk-container-id-3 label.sk-toggleable__label-arrow:before {content: \"▸\";float: left;margin-right: 0.25em;color: #696969;}#sk-container-id-3 label.sk-toggleable__label-arrow:hover:before {color: black;}#sk-container-id-3 div.sk-estimator:hover label.sk-toggleable__label-arrow:before {color: black;}#sk-container-id-3 div.sk-toggleable__content {max-height: 0;max-width: 0;overflow: hidden;text-align: left;background-color: #f0f8ff;}#sk-container-id-3 div.sk-toggleable__content pre {margin: 0.2em;color: black;border-radius: 0.25em;background-color: #f0f8ff;}#sk-container-id-3 input.sk-toggleable__control:checked~div.sk-toggleable__content {max-height: 200px;max-width: 100%;overflow: auto;}#sk-container-id-3 input.sk-toggleable__control:checked~label.sk-toggleable__label-arrow:before {content: \"▾\";}#sk-container-id-3 div.sk-estimator input.sk-toggleable__control:checked~label.sk-toggleable__label {background-color: #d4ebff;}#sk-container-id-3 div.sk-label input.sk-toggleable__control:checked~label.sk-toggleable__label {background-color: #d4ebff;}#sk-container-id-3 input.sk-hidden--visually {border: 0;clip: rect(1px 1px 1px 1px);clip: rect(1px, 1px, 1px, 1px);height: 1px;margin: -1px;overflow: hidden;padding: 0;position: absolute;width: 1px;}#sk-container-id-3 div.sk-estimator {font-family: monospace;background-color: #f0f8ff;border: 1px dotted black;border-radius: 0.25em;box-sizing: border-box;margin-bottom: 0.5em;}#sk-container-id-3 div.sk-estimator:hover {background-color: #d4ebff;}#sk-container-id-3 div.sk-parallel-item::after {content: \"\";width: 100%;border-bottom: 1px solid gray;flex-grow: 1;}#sk-container-id-3 div.sk-label:hover label.sk-toggleable__label {background-color: #d4ebff;}#sk-container-id-3 div.sk-serial::before {content: \"\";position: absolute;border-left: 1px solid gray;box-sizing: border-box;top: 0;bottom: 0;left: 50%;z-index: 0;}#sk-container-id-3 div.sk-serial {display: flex;flex-direction: column;align-items: center;background-color: white;padding-right: 0.2em;padding-left: 0.2em;position: relative;}#sk-container-id-3 div.sk-item {position: relative;z-index: 1;}#sk-container-id-3 div.sk-parallel {display: flex;align-items: stretch;justify-content: center;background-color: white;position: relative;}#sk-container-id-3 div.sk-item::before, #sk-container-id-3 div.sk-parallel-item::before {content: \"\";position: absolute;border-left: 1px solid gray;box-sizing: border-box;top: 0;bottom: 0;left: 50%;z-index: -1;}#sk-container-id-3 div.sk-parallel-item {display: flex;flex-direction: column;z-index: 1;position: relative;background-color: white;}#sk-container-id-3 div.sk-parallel-item:first-child::after {align-self: flex-end;width: 50%;}#sk-container-id-3 div.sk-parallel-item:last-child::after {align-self: flex-start;width: 50%;}#sk-container-id-3 div.sk-parallel-item:only-child::after {width: 0;}#sk-container-id-3 div.sk-dashed-wrapped {border: 1px dashed gray;margin: 0 0.4em 0.5em 0.4em;box-sizing: border-box;padding-bottom: 0.4em;background-color: white;}#sk-container-id-3 div.sk-label label {font-family: monospace;font-weight: bold;display: inline-block;line-height: 1.2em;}#sk-container-id-3 div.sk-label-container {text-align: center;}#sk-container-id-3 div.sk-container {/* jupyter's `normalize.less` sets `[hidden] { display: none; }` but bootstrap.min.css set `[hidden] { display: none !important; }` so we also need the `!important` here to be able to override the default hidden behavior on the sphinx rendered scikit-learn.org. See: https://github.com/scikit-learn/scikit-learn/issues/21755 */display: inline-block !important;position: relative;}#sk-container-id-3 div.sk-text-repr-fallback {display: none;}</style><div id=\"sk-container-id-3\" class=\"sk-top-container\"><div class=\"sk-text-repr-fallback\"><pre>SVC()</pre><b>In a Jupyter environment, please rerun this cell to show the HTML representation or trust the notebook. <br />On GitHub, the HTML representation is unable to render, please try loading this page with nbviewer.org.</b></div><div class=\"sk-container\" hidden><div class=\"sk-item\"><div class=\"sk-estimator sk-toggleable\"><input class=\"sk-toggleable__control sk-hidden--visually\" id=\"sk-estimator-id-3\" type=\"checkbox\" checked><label for=\"sk-estimator-id-3\" class=\"sk-toggleable__label sk-toggleable__label-arrow\">SVC</label><div class=\"sk-toggleable__content\"><pre>SVC()</pre></div></div></div></div></div>"
            ]
          },
          "metadata": {},
          "execution_count": 51
        }
      ]
    },
    {
      "cell_type": "code",
      "source": [
        "metrics.accuracy_score(y_test, svc.predict(X_test_ct))"
      ],
      "metadata": {
        "colab": {
          "base_uri": "https://localhost:8080/"
        },
        "id": "GRlNS22j_Po_",
        "outputId": "8e305433-adab-426b-dd29-447d5045cc88"
      },
      "execution_count": null,
      "outputs": [
        {
          "output_type": "execute_result",
          "data": {
            "text/plain": [
              "0.9734386216798278"
            ]
          },
          "metadata": {},
          "execution_count": 52
        }
      ]
    },
    {
      "cell_type": "markdown",
      "source": [
        "### Lets use TF-IDF vector"
      ],
      "metadata": {
        "id": "NMViaUbk_YNW"
      }
    },
    {
      "cell_type": "code",
      "source": [
        "from sklearn.feature_extraction.text import TfidfVectorizer"
      ],
      "metadata": {
        "id": "CPQHSV9Z__-y"
      },
      "execution_count": null,
      "outputs": []
    },
    {
      "cell_type": "code",
      "source": [
        "tvect=TfidfVectorizer()"
      ],
      "metadata": {
        "id": "diaqAuogAPmQ"
      },
      "execution_count": null,
      "outputs": []
    },
    {
      "cell_type": "code",
      "source": [
        "#Feed sms_train data to TF_IDF vectorizer\n",
        "\n",
        "tvect.fit(sms_train)"
      ],
      "metadata": {
        "colab": {
          "base_uri": "https://localhost:8080/",
          "height": 74
        },
        "id": "oSrMJuKkAW6X",
        "outputId": "f1773b84-68f0-496e-a8b6-f74af7eb8645"
      },
      "execution_count": null,
      "outputs": [
        {
          "output_type": "execute_result",
          "data": {
            "text/plain": [
              "TfidfVectorizer()"
            ],
            "text/html": [
              "<style>#sk-container-id-4 {color: black;background-color: white;}#sk-container-id-4 pre{padding: 0;}#sk-container-id-4 div.sk-toggleable {background-color: white;}#sk-container-id-4 label.sk-toggleable__label {cursor: pointer;display: block;width: 100%;margin-bottom: 0;padding: 0.3em;box-sizing: border-box;text-align: center;}#sk-container-id-4 label.sk-toggleable__label-arrow:before {content: \"▸\";float: left;margin-right: 0.25em;color: #696969;}#sk-container-id-4 label.sk-toggleable__label-arrow:hover:before {color: black;}#sk-container-id-4 div.sk-estimator:hover label.sk-toggleable__label-arrow:before {color: black;}#sk-container-id-4 div.sk-toggleable__content {max-height: 0;max-width: 0;overflow: hidden;text-align: left;background-color: #f0f8ff;}#sk-container-id-4 div.sk-toggleable__content pre {margin: 0.2em;color: black;border-radius: 0.25em;background-color: #f0f8ff;}#sk-container-id-4 input.sk-toggleable__control:checked~div.sk-toggleable__content {max-height: 200px;max-width: 100%;overflow: auto;}#sk-container-id-4 input.sk-toggleable__control:checked~label.sk-toggleable__label-arrow:before {content: \"▾\";}#sk-container-id-4 div.sk-estimator input.sk-toggleable__control:checked~label.sk-toggleable__label {background-color: #d4ebff;}#sk-container-id-4 div.sk-label input.sk-toggleable__control:checked~label.sk-toggleable__label {background-color: #d4ebff;}#sk-container-id-4 input.sk-hidden--visually {border: 0;clip: rect(1px 1px 1px 1px);clip: rect(1px, 1px, 1px, 1px);height: 1px;margin: -1px;overflow: hidden;padding: 0;position: absolute;width: 1px;}#sk-container-id-4 div.sk-estimator {font-family: monospace;background-color: #f0f8ff;border: 1px dotted black;border-radius: 0.25em;box-sizing: border-box;margin-bottom: 0.5em;}#sk-container-id-4 div.sk-estimator:hover {background-color: #d4ebff;}#sk-container-id-4 div.sk-parallel-item::after {content: \"\";width: 100%;border-bottom: 1px solid gray;flex-grow: 1;}#sk-container-id-4 div.sk-label:hover label.sk-toggleable__label {background-color: #d4ebff;}#sk-container-id-4 div.sk-serial::before {content: \"\";position: absolute;border-left: 1px solid gray;box-sizing: border-box;top: 0;bottom: 0;left: 50%;z-index: 0;}#sk-container-id-4 div.sk-serial {display: flex;flex-direction: column;align-items: center;background-color: white;padding-right: 0.2em;padding-left: 0.2em;position: relative;}#sk-container-id-4 div.sk-item {position: relative;z-index: 1;}#sk-container-id-4 div.sk-parallel {display: flex;align-items: stretch;justify-content: center;background-color: white;position: relative;}#sk-container-id-4 div.sk-item::before, #sk-container-id-4 div.sk-parallel-item::before {content: \"\";position: absolute;border-left: 1px solid gray;box-sizing: border-box;top: 0;bottom: 0;left: 50%;z-index: -1;}#sk-container-id-4 div.sk-parallel-item {display: flex;flex-direction: column;z-index: 1;position: relative;background-color: white;}#sk-container-id-4 div.sk-parallel-item:first-child::after {align-self: flex-end;width: 50%;}#sk-container-id-4 div.sk-parallel-item:last-child::after {align-self: flex-start;width: 50%;}#sk-container-id-4 div.sk-parallel-item:only-child::after {width: 0;}#sk-container-id-4 div.sk-dashed-wrapped {border: 1px dashed gray;margin: 0 0.4em 0.5em 0.4em;box-sizing: border-box;padding-bottom: 0.4em;background-color: white;}#sk-container-id-4 div.sk-label label {font-family: monospace;font-weight: bold;display: inline-block;line-height: 1.2em;}#sk-container-id-4 div.sk-label-container {text-align: center;}#sk-container-id-4 div.sk-container {/* jupyter's `normalize.less` sets `[hidden] { display: none; }` but bootstrap.min.css set `[hidden] { display: none !important; }` so we also need the `!important` here to be able to override the default hidden behavior on the sphinx rendered scikit-learn.org. See: https://github.com/scikit-learn/scikit-learn/issues/21755 */display: inline-block !important;position: relative;}#sk-container-id-4 div.sk-text-repr-fallback {display: none;}</style><div id=\"sk-container-id-4\" class=\"sk-top-container\"><div class=\"sk-text-repr-fallback\"><pre>TfidfVectorizer()</pre><b>In a Jupyter environment, please rerun this cell to show the HTML representation or trust the notebook. <br />On GitHub, the HTML representation is unable to render, please try loading this page with nbviewer.org.</b></div><div class=\"sk-container\" hidden><div class=\"sk-item\"><div class=\"sk-estimator sk-toggleable\"><input class=\"sk-toggleable__control sk-hidden--visually\" id=\"sk-estimator-id-4\" type=\"checkbox\" checked><label for=\"sk-estimator-id-4\" class=\"sk-toggleable__label sk-toggleable__label-arrow\">TfidfVectorizer</label><div class=\"sk-toggleable__content\"><pre>TfidfVectorizer()</pre></div></div></div></div></div>"
            ]
          },
          "metadata": {},
          "execution_count": 55
        }
      ]
    },
    {
      "cell_type": "code",
      "source": [
        "#Check the lenght of vocab\n",
        "len(tvect.vocabulary_)"
      ],
      "metadata": {
        "colab": {
          "base_uri": "https://localhost:8080/"
        },
        "id": "JNdwbyLjAggK",
        "outputId": "be7b195e-33da-417a-c8fe-dd3d6a431a84"
      },
      "execution_count": null,
      "outputs": [
        {
          "output_type": "execute_result",
          "data": {
            "text/plain": [
              "7450"
            ]
          },
          "metadata": {},
          "execution_count": 56
        }
      ]
    },
    {
      "cell_type": "code",
      "source": [
        "#Convert training smss data into numerical features\n",
        "X_train_tfidf=tvect.transform(sms_train)"
      ],
      "metadata": {
        "id": "rLMAg0vUAn0o"
      },
      "execution_count": null,
      "outputs": []
    },
    {
      "cell_type": "code",
      "source": [
        "X_train_tfidf.shape"
      ],
      "metadata": {
        "colab": {
          "base_uri": "https://localhost:8080/"
        },
        "id": "Jj_nnepuCBjR",
        "outputId": "c515cfa6-ef2f-412c-a835-95b9d2d57bec"
      },
      "execution_count": null,
      "outputs": [
        {
          "output_type": "execute_result",
          "data": {
            "text/plain": [
              "(4179, 7450)"
            ]
          },
          "metadata": {},
          "execution_count": 58
        }
      ]
    },
    {
      "cell_type": "code",
      "source": [
        "#Also convert test sms data into numerical features\n",
        "X_test_tfidf=tvect.transform(sms_test)"
      ],
      "metadata": {
        "id": "0YojWV4PCGHR"
      },
      "execution_count": null,
      "outputs": []
    },
    {
      "cell_type": "code",
      "source": [
        "X_test_tfidf.shape"
      ],
      "metadata": {
        "colab": {
          "base_uri": "https://localhost:8080/"
        },
        "id": "wma_4qenCRDK",
        "outputId": "6b0cf4f9-8089-4863-e03f-3cdda3d686f5"
      },
      "execution_count": null,
      "outputs": [
        {
          "output_type": "execute_result",
          "data": {
            "text/plain": [
              "(1393, 7450)"
            ]
          },
          "metadata": {},
          "execution_count": 60
        }
      ]
    },
    {
      "cell_type": "markdown",
      "source": [
        "#### Build SVM again"
      ],
      "metadata": {
        "id": "_20uc0MPCS5Q"
      }
    },
    {
      "cell_type": "code",
      "source": [
        "svc_tf=SVC()"
      ],
      "metadata": {
        "id": "3pFZBv5iCjsn"
      },
      "execution_count": null,
      "outputs": []
    },
    {
      "cell_type": "code",
      "source": [
        "svc_tf.fit(X_train_tfidf, y_train)"
      ],
      "metadata": {
        "colab": {
          "base_uri": "https://localhost:8080/",
          "height": 74
        },
        "id": "nOv8q-eqClpX",
        "outputId": "9e895564-f13a-47df-dc5f-9b5181083420"
      },
      "execution_count": null,
      "outputs": [
        {
          "output_type": "execute_result",
          "data": {
            "text/plain": [
              "SVC()"
            ],
            "text/html": [
              "<style>#sk-container-id-5 {color: black;background-color: white;}#sk-container-id-5 pre{padding: 0;}#sk-container-id-5 div.sk-toggleable {background-color: white;}#sk-container-id-5 label.sk-toggleable__label {cursor: pointer;display: block;width: 100%;margin-bottom: 0;padding: 0.3em;box-sizing: border-box;text-align: center;}#sk-container-id-5 label.sk-toggleable__label-arrow:before {content: \"▸\";float: left;margin-right: 0.25em;color: #696969;}#sk-container-id-5 label.sk-toggleable__label-arrow:hover:before {color: black;}#sk-container-id-5 div.sk-estimator:hover label.sk-toggleable__label-arrow:before {color: black;}#sk-container-id-5 div.sk-toggleable__content {max-height: 0;max-width: 0;overflow: hidden;text-align: left;background-color: #f0f8ff;}#sk-container-id-5 div.sk-toggleable__content pre {margin: 0.2em;color: black;border-radius: 0.25em;background-color: #f0f8ff;}#sk-container-id-5 input.sk-toggleable__control:checked~div.sk-toggleable__content {max-height: 200px;max-width: 100%;overflow: auto;}#sk-container-id-5 input.sk-toggleable__control:checked~label.sk-toggleable__label-arrow:before {content: \"▾\";}#sk-container-id-5 div.sk-estimator input.sk-toggleable__control:checked~label.sk-toggleable__label {background-color: #d4ebff;}#sk-container-id-5 div.sk-label input.sk-toggleable__control:checked~label.sk-toggleable__label {background-color: #d4ebff;}#sk-container-id-5 input.sk-hidden--visually {border: 0;clip: rect(1px 1px 1px 1px);clip: rect(1px, 1px, 1px, 1px);height: 1px;margin: -1px;overflow: hidden;padding: 0;position: absolute;width: 1px;}#sk-container-id-5 div.sk-estimator {font-family: monospace;background-color: #f0f8ff;border: 1px dotted black;border-radius: 0.25em;box-sizing: border-box;margin-bottom: 0.5em;}#sk-container-id-5 div.sk-estimator:hover {background-color: #d4ebff;}#sk-container-id-5 div.sk-parallel-item::after {content: \"\";width: 100%;border-bottom: 1px solid gray;flex-grow: 1;}#sk-container-id-5 div.sk-label:hover label.sk-toggleable__label {background-color: #d4ebff;}#sk-container-id-5 div.sk-serial::before {content: \"\";position: absolute;border-left: 1px solid gray;box-sizing: border-box;top: 0;bottom: 0;left: 50%;z-index: 0;}#sk-container-id-5 div.sk-serial {display: flex;flex-direction: column;align-items: center;background-color: white;padding-right: 0.2em;padding-left: 0.2em;position: relative;}#sk-container-id-5 div.sk-item {position: relative;z-index: 1;}#sk-container-id-5 div.sk-parallel {display: flex;align-items: stretch;justify-content: center;background-color: white;position: relative;}#sk-container-id-5 div.sk-item::before, #sk-container-id-5 div.sk-parallel-item::before {content: \"\";position: absolute;border-left: 1px solid gray;box-sizing: border-box;top: 0;bottom: 0;left: 50%;z-index: -1;}#sk-container-id-5 div.sk-parallel-item {display: flex;flex-direction: column;z-index: 1;position: relative;background-color: white;}#sk-container-id-5 div.sk-parallel-item:first-child::after {align-self: flex-end;width: 50%;}#sk-container-id-5 div.sk-parallel-item:last-child::after {align-self: flex-start;width: 50%;}#sk-container-id-5 div.sk-parallel-item:only-child::after {width: 0;}#sk-container-id-5 div.sk-dashed-wrapped {border: 1px dashed gray;margin: 0 0.4em 0.5em 0.4em;box-sizing: border-box;padding-bottom: 0.4em;background-color: white;}#sk-container-id-5 div.sk-label label {font-family: monospace;font-weight: bold;display: inline-block;line-height: 1.2em;}#sk-container-id-5 div.sk-label-container {text-align: center;}#sk-container-id-5 div.sk-container {/* jupyter's `normalize.less` sets `[hidden] { display: none; }` but bootstrap.min.css set `[hidden] { display: none !important; }` so we also need the `!important` here to be able to override the default hidden behavior on the sphinx rendered scikit-learn.org. See: https://github.com/scikit-learn/scikit-learn/issues/21755 */display: inline-block !important;position: relative;}#sk-container-id-5 div.sk-text-repr-fallback {display: none;}</style><div id=\"sk-container-id-5\" class=\"sk-top-container\"><div class=\"sk-text-repr-fallback\"><pre>SVC()</pre><b>In a Jupyter environment, please rerun this cell to show the HTML representation or trust the notebook. <br />On GitHub, the HTML representation is unable to render, please try loading this page with nbviewer.org.</b></div><div class=\"sk-container\" hidden><div class=\"sk-item\"><div class=\"sk-estimator sk-toggleable\"><input class=\"sk-toggleable__control sk-hidden--visually\" id=\"sk-estimator-id-5\" type=\"checkbox\" checked><label for=\"sk-estimator-id-5\" class=\"sk-toggleable__label sk-toggleable__label-arrow\">SVC</label><div class=\"sk-toggleable__content\"><pre>SVC()</pre></div></div></div></div></div>"
            ]
          },
          "metadata": {},
          "execution_count": 62
        }
      ]
    },
    {
      "cell_type": "code",
      "source": [
        "#Calculate the accuracy on the test data\n",
        "metrics.accuracy_score(y_train, svc_tf.predict(X_train_tfidf))"
      ],
      "metadata": {
        "colab": {
          "base_uri": "https://localhost:8080/"
        },
        "id": "VcIm0TJgDkxn",
        "outputId": "bdbd67f2-c8b4-4064-a1dd-017fb8adfe34"
      },
      "execution_count": null,
      "outputs": [
        {
          "output_type": "execute_result",
          "data": {
            "text/plain": [
              "0.998085666427375"
            ]
          },
          "metadata": {},
          "execution_count": 63
        }
      ]
    },
    {
      "cell_type": "markdown",
      "source": [
        "###6. TF-IDF with ngrams"
      ],
      "metadata": {
        "id": "g8_wgJwdEimP"
      }
    },
    {
      "cell_type": "code",
      "source": [
        "sms_train[0]"
      ],
      "metadata": {
        "colab": {
          "base_uri": "https://localhost:8080/",
          "height": 35
        },
        "id": "3mYn92KuFC70",
        "outputId": "0f9dfd08-d9b4-41e8-801d-b04624ba5d27"
      },
      "execution_count": null,
      "outputs": [
        {
          "output_type": "execute_result",
          "data": {
            "text/plain": [
              "'Go until jurong point, crazy.. Available only in bugis n great world la e buffet... Cine there got amore wat...'"
            ],
            "application/vnd.google.colaboratory.intrinsic+json": {
              "type": "string"
            }
          },
          "metadata": {},
          "execution_count": 64
        }
      ]
    },
    {
      "cell_type": "code",
      "source": [
        "#Use ngram of length upto 2 words\n",
        "tvect_ngram=TfidfVectorizer(ngram_range=(1,2))   #tokens can be made of 1 and 2 words"
      ],
      "metadata": {
        "id": "UdmIwdqTFshV"
      },
      "execution_count": null,
      "outputs": []
    },
    {
      "cell_type": "code",
      "source": [
        "#Feed sms train data the count vectorizer\n",
        "tvect_ngram.fit(sms_train)"
      ],
      "metadata": {
        "colab": {
          "base_uri": "https://localhost:8080/",
          "height": 74
        },
        "id": "aZ0BrWCFGDqC",
        "outputId": "d329b634-a206-4498-fbb0-a0eacffb1fb1"
      },
      "execution_count": null,
      "outputs": [
        {
          "output_type": "execute_result",
          "data": {
            "text/plain": [
              "TfidfVectorizer(ngram_range=(1, 2))"
            ],
            "text/html": [
              "<style>#sk-container-id-6 {color: black;background-color: white;}#sk-container-id-6 pre{padding: 0;}#sk-container-id-6 div.sk-toggleable {background-color: white;}#sk-container-id-6 label.sk-toggleable__label {cursor: pointer;display: block;width: 100%;margin-bottom: 0;padding: 0.3em;box-sizing: border-box;text-align: center;}#sk-container-id-6 label.sk-toggleable__label-arrow:before {content: \"▸\";float: left;margin-right: 0.25em;color: #696969;}#sk-container-id-6 label.sk-toggleable__label-arrow:hover:before {color: black;}#sk-container-id-6 div.sk-estimator:hover label.sk-toggleable__label-arrow:before {color: black;}#sk-container-id-6 div.sk-toggleable__content {max-height: 0;max-width: 0;overflow: hidden;text-align: left;background-color: #f0f8ff;}#sk-container-id-6 div.sk-toggleable__content pre {margin: 0.2em;color: black;border-radius: 0.25em;background-color: #f0f8ff;}#sk-container-id-6 input.sk-toggleable__control:checked~div.sk-toggleable__content {max-height: 200px;max-width: 100%;overflow: auto;}#sk-container-id-6 input.sk-toggleable__control:checked~label.sk-toggleable__label-arrow:before {content: \"▾\";}#sk-container-id-6 div.sk-estimator input.sk-toggleable__control:checked~label.sk-toggleable__label {background-color: #d4ebff;}#sk-container-id-6 div.sk-label input.sk-toggleable__control:checked~label.sk-toggleable__label {background-color: #d4ebff;}#sk-container-id-6 input.sk-hidden--visually {border: 0;clip: rect(1px 1px 1px 1px);clip: rect(1px, 1px, 1px, 1px);height: 1px;margin: -1px;overflow: hidden;padding: 0;position: absolute;width: 1px;}#sk-container-id-6 div.sk-estimator {font-family: monospace;background-color: #f0f8ff;border: 1px dotted black;border-radius: 0.25em;box-sizing: border-box;margin-bottom: 0.5em;}#sk-container-id-6 div.sk-estimator:hover {background-color: #d4ebff;}#sk-container-id-6 div.sk-parallel-item::after {content: \"\";width: 100%;border-bottom: 1px solid gray;flex-grow: 1;}#sk-container-id-6 div.sk-label:hover label.sk-toggleable__label {background-color: #d4ebff;}#sk-container-id-6 div.sk-serial::before {content: \"\";position: absolute;border-left: 1px solid gray;box-sizing: border-box;top: 0;bottom: 0;left: 50%;z-index: 0;}#sk-container-id-6 div.sk-serial {display: flex;flex-direction: column;align-items: center;background-color: white;padding-right: 0.2em;padding-left: 0.2em;position: relative;}#sk-container-id-6 div.sk-item {position: relative;z-index: 1;}#sk-container-id-6 div.sk-parallel {display: flex;align-items: stretch;justify-content: center;background-color: white;position: relative;}#sk-container-id-6 div.sk-item::before, #sk-container-id-6 div.sk-parallel-item::before {content: \"\";position: absolute;border-left: 1px solid gray;box-sizing: border-box;top: 0;bottom: 0;left: 50%;z-index: -1;}#sk-container-id-6 div.sk-parallel-item {display: flex;flex-direction: column;z-index: 1;position: relative;background-color: white;}#sk-container-id-6 div.sk-parallel-item:first-child::after {align-self: flex-end;width: 50%;}#sk-container-id-6 div.sk-parallel-item:last-child::after {align-self: flex-start;width: 50%;}#sk-container-id-6 div.sk-parallel-item:only-child::after {width: 0;}#sk-container-id-6 div.sk-dashed-wrapped {border: 1px dashed gray;margin: 0 0.4em 0.5em 0.4em;box-sizing: border-box;padding-bottom: 0.4em;background-color: white;}#sk-container-id-6 div.sk-label label {font-family: monospace;font-weight: bold;display: inline-block;line-height: 1.2em;}#sk-container-id-6 div.sk-label-container {text-align: center;}#sk-container-id-6 div.sk-container {/* jupyter's `normalize.less` sets `[hidden] { display: none; }` but bootstrap.min.css set `[hidden] { display: none !important; }` so we also need the `!important` here to be able to override the default hidden behavior on the sphinx rendered scikit-learn.org. See: https://github.com/scikit-learn/scikit-learn/issues/21755 */display: inline-block !important;position: relative;}#sk-container-id-6 div.sk-text-repr-fallback {display: none;}</style><div id=\"sk-container-id-6\" class=\"sk-top-container\"><div class=\"sk-text-repr-fallback\"><pre>TfidfVectorizer(ngram_range=(1, 2))</pre><b>In a Jupyter environment, please rerun this cell to show the HTML representation or trust the notebook. <br />On GitHub, the HTML representation is unable to render, please try loading this page with nbviewer.org.</b></div><div class=\"sk-container\" hidden><div class=\"sk-item\"><div class=\"sk-estimator sk-toggleable\"><input class=\"sk-toggleable__control sk-hidden--visually\" id=\"sk-estimator-id-6\" type=\"checkbox\" checked><label for=\"sk-estimator-id-6\" class=\"sk-toggleable__label sk-toggleable__label-arrow\">TfidfVectorizer</label><div class=\"sk-toggleable__content\"><pre>TfidfVectorizer(ngram_range=(1, 2))</pre></div></div></div></div></div>"
            ]
          },
          "metadata": {},
          "execution_count": 66
        }
      ]
    },
    {
      "cell_type": "code",
      "source": [
        "#Lenght of Vocabulary\n",
        "len(tvect_ngram.vocabulary_)"
      ],
      "metadata": {
        "colab": {
          "base_uri": "https://localhost:8080/"
        },
        "id": "f2KZ8QAhGaVq",
        "outputId": "faa21f22-5b49-46dd-b9fc-b253ea77d1ea"
      },
      "execution_count": null,
      "outputs": [
        {
          "output_type": "execute_result",
          "data": {
            "text/plain": [
              "41004"
            ]
          },
          "metadata": {},
          "execution_count": 67
        }
      ]
    },
    {
      "cell_type": "code",
      "source": [
        "tvect_ngram.vocabulary_"
      ],
      "metadata": {
        "colab": {
          "base_uri": "https://localhost:8080/"
        },
        "id": "l_RMBjM5Gzwq",
        "outputId": "3e311e10-935e-45f0-ecc4-cac760811ebb"
      },
      "execution_count": null,
      "outputs": [
        {
          "output_type": "execute_result",
          "data": {
            "text/plain": [
              "{'ok': 24911,\n",
              " 'gonna': 14000,\n",
              " 'head': 15439,\n",
              " 'up': 36602,\n",
              " 'to': 34963,\n",
              " 'usf': 37016,\n",
              " 'in': 17042,\n",
              " 'like': 19778,\n",
              " 'fifteen': 11932,\n",
              " 'minutes': 21890,\n",
              " 'ok gonna': 24936,\n",
              " 'gonna head': 14012,\n",
              " 'head up': 15448,\n",
              " 'up to': 36681,\n",
              " 'to usf': 35468,\n",
              " 'usf in': 37019,\n",
              " 'in like': 17185,\n",
              " 'like fifteen': 19804,\n",
              " 'fifteen minutes': 11935,\n",
              " 'that': 33191,\n",
              " 'shame': 29999,\n",
              " 'maybe': 21194,\n",
              " 'cld': 7752,\n",
              " 'meet': 21532,\n",
              " 'for': 12337,\n",
              " 'few': 11891,\n",
              " 'hrs': 16562,\n",
              " 'tomo': 35637,\n",
              " 'that shame': 33350,\n",
              " 'shame maybe': 30001,\n",
              " 'maybe cld': 21200,\n",
              " 'cld meet': 7754,\n",
              " 'meet for': 21544,\n",
              " 'for few': 12419,\n",
              " 'few hrs': 11898,\n",
              " 'hrs tomo': 16566,\n",
              " 'will': 38898,\n",
              " 'do': 9926,\n",
              " 'was': 37670,\n",
              " 'exhausted': 11472,\n",
              " 'on': 25073,\n",
              " 'train': 35961,\n",
              " 'this': 34429,\n",
              " 'morning': 22351,\n",
              " 'too': 35765,\n",
              " 'much': 22597,\n",
              " 'wine': 39059,\n",
              " 'and': 2907,\n",
              " 'pie': 26738,\n",
              " 'you': 40206,\n",
              " 'sleep': 30625,\n",
              " 'well': 38244,\n",
              " 'will do': 38922,\n",
              " 'do was': 10014,\n",
              " 'was exhausted': 37692,\n",
              " 'exhausted on': 11474,\n",
              " 'on train': 25215,\n",
              " 'train this': 35966,\n",
              " 'this morning': 34478,\n",
              " 'morning too': 22381,\n",
              " 'too much': 35792,\n",
              " 'much wine': 22656,\n",
              " 'wine and': 39061,\n",
              " 'and pie': 3155,\n",
              " 'pie you': 26740,\n",
              " 'you sleep': 40513,\n",
              " 'sleep well': 30653,\n",
              " 'well too': 38290,\n",
              " 'be': 4862,\n",
              " 'gentle': 13389,\n",
              " 'princess': 27466,\n",
              " 'we': 37945,\n",
              " 'make': 20871,\n",
              " 'sweet': 32504,\n",
              " 'love': 20469,\n",
              " 'will be': 38901,\n",
              " 'be gentle': 4907,\n",
              " 'gentle princess': 13392,\n",
              " 'princess we': 27476,\n",
              " 'we will': 38058,\n",
              " 'will make': 38959,\n",
              " 'make sweet': 20897,\n",
              " 'sweet gentle': 32512,\n",
              " 'gentle love': 13391,\n",
              " 'know': 19021,\n",
              " 'people': 26454,\n",
              " 'can': 6860,\n",
              " 'hit': 16046,\n",
              " 'fuck': 13112,\n",
              " 'the': 33430,\n",
              " 'yes': 40047,\n",
              " 'know few': 19041,\n",
              " 'few people': 11907,\n",
              " 'people can': 26459,\n",
              " 'can hit': 6920,\n",
              " 'hit up': 16055,\n",
              " 'up and': 36607,\n",
              " 'and fuck': 3035,\n",
              " 'fuck to': 13124,\n",
              " 'to the': 35434,\n",
              " 'the yes': 33943,\n",
              " 'dear': 9265,\n",
              " 'call': 6553,\n",
              " 'tmorrow': 34940,\n",
              " 'pls': 26973,\n",
              " 'accomodate': 1878,\n",
              " 'dear will': 9314,\n",
              " 'will call': 38909,\n",
              " 'call tmorrow': 6726,\n",
              " 'tmorrow pls': 34941,\n",
              " 'pls accomodate': 26975,\n",
              " 'said': 29098,\n",
              " 'text': 32993,\n",
              " 'him': 15935,\n",
              " 'one': 25273,\n",
              " 'more': 22290,\n",
              " 'time': 34785,\n",
              " 'that said': 33343,\n",
              " 'said can': 29102,\n",
              " 'can you': 6999,\n",
              " 'you text': 40545,\n",
              " 'text him': 33014,\n",
              " 'him one': 15972,\n",
              " 'one more': 25321,\n",
              " 'more time': 22335,\n",
              " 'sms': 30820,\n",
              " 'services': 29878,\n",
              " 'your': 40630,\n",
              " 'inclusive': 17352,\n",
              " 'credits': 8694,\n",
              " 'gotto': 14295,\n",
              " 'www': 39769,\n",
              " 'comuk': 8223,\n",
              " 'net': 23297,\n",
              " 'login': 20179,\n",
              " '3qxj9': 1087,\n",
              " 'unsubscribe': 36569,\n",
              " 'with': 39135,\n",
              " 'stop': 31985,\n",
              " 'no': 23629,\n",
              " 'extra': 11551,\n",
              " 'charge': 7385,\n",
              " 'help': 15596,\n",
              " '08702840625': 172,\n",
              " '220cm2': 816,\n",
              " '9ae': 1695,\n",
              " 'sms services': 30833,\n",
              " 'services for': 29881,\n",
              " 'for your': 12578,\n",
              " 'your inclusive': 40741,\n",
              " 'inclusive text': 17353,\n",
              " 'text credits': 33004,\n",
              " 'credits pls': 8698,\n",
              " 'pls gotto': 26991,\n",
              " 'gotto www': 14296,\n",
              " 'www comuk': 39782,\n",
              " 'comuk net': 8226,\n",
              " 'net login': 23303,\n",
              " 'login 3qxj9': 20180,\n",
              " '3qxj9 unsubscribe': 1088,\n",
              " 'unsubscribe with': 36575,\n",
              " 'with stop': 39244,\n",
              " 'stop no': 32021,\n",
              " 'no extra': 23683,\n",
              " 'extra charge': 11552,\n",
              " 'charge help': 7390,\n",
              " 'help 08702840625': 15599,\n",
              " '08702840625 comuk': 173,\n",
              " 'comuk 220cm2': 8225,\n",
              " '220cm2 9ae': 817,\n",
              " 'two': 36232,\n",
              " 'teams': 32813,\n",
              " 'waiting': 37476,\n",
              " 'some': 31107,\n",
              " 'players': 26899,\n",
              " 'two teams': 36249,\n",
              " 'teams waiting': 32814,\n",
              " 'waiting for': 37477,\n",
              " 'for some': 12527,\n",
              " 'some players': 31146,\n",
              " 'alrite': 2578,\n",
              " 'sam': 29165,\n",
              " 'its': 18186,\n",
              " 'nic': 23502,\n",
              " 'just': 18596,\n",
              " 'checkin': 7505,\n",
              " 'is': 17610,\n",
              " 'ur': 36740,\n",
              " 'number': 24371,\n",
              " 'so': 30897,\n",
              " 'it': 17940,\n",
              " 'alrite sam': 2584,\n",
              " 'sam its': 29168,\n",
              " 'its nic': 18238,\n",
              " 'nic just': 23503,\n",
              " 'just checkin': 18622,\n",
              " 'checkin that': 7506,\n",
              " 'that this': 33375,\n",
              " 'this is': 34468,\n",
              " 'is ur': 17870,\n",
              " 'ur number': 36838,\n",
              " 'number so': 24399,\n",
              " 'so is': 30981,\n",
              " 'is it': 17736,\n",
              " 'my': 22764,\n",
              " 'hope': 16273,\n",
              " 'not': 23920,\n",
              " 'doing': 10117,\n",
              " 'anything': 3497,\n",
              " 'drastic': 10428,\n",
              " 'don': 10182,\n",
              " 'dare': 9030,\n",
              " 'sell': 29678,\n",
              " 'pc': 26423,\n",
              " 'or': 25559,\n",
              " 'phone': 26597,\n",
              " 'my love': 22914,\n",
              " 'love hope': 20493,\n",
              " 'hope your': 16308,\n",
              " 'your not': 40784,\n",
              " 'not doing': 23967,\n",
              " 'doing anything': 10120,\n",
              " 'anything drastic': 3503,\n",
              " 'drastic don': 10429,\n",
              " 'don you': 10235,\n",
              " 'you dare': 40288,\n",
              " 'dare sell': 9032,\n",
              " 'sell your': 29688,\n",
              " 'your pc': 40797,\n",
              " 'pc or': 26426,\n",
              " 'or your': 25723,\n",
              " 'your phone': 40800,\n",
              " 'todays': 35571,\n",
              " 'voda': 37344,\n",
              " 'numbers': 24410,\n",
              " 'ending': 10977,\n",
              " '1225': 572,\n",
              " 'are': 3690,\n",
              " 'selected': 29658,\n",
              " 'receive': 28273,\n",
              " '50award': 1276,\n",
              " 'if': 16764,\n",
              " 'have': 15098,\n",
              " 'match': 21104,\n",
              " 'please': 26917,\n",
              " '08712300220': 199,\n",
              " 'quoting': 27893,\n",
              " 'claim': 7679,\n",
              " 'code': 7885,\n",
              " '3100': 1021,\n",
              " 'standard': 31721,\n",
              " 'rates': 27988,\n",
              " 'app': 3591,\n",
              " 'todays voda': 35575,\n",
              " 'voda numbers': 37345,\n",
              " 'numbers ending': 24411,\n",
              " 'ending 1225': 10978,\n",
              " '1225 are': 573,\n",
              " 'are selected': 3775,\n",
              " 'selected to': 29662,\n",
              " 'to receive': 35342,\n",
              " 'receive 50award': 28278,\n",
              " '50award if': 1277,\n",
              " 'if you': 16856,\n",
              " 'you have': 40350,\n",
              " 'have match': 15189,\n",
              " 'match please': 21107,\n",
              " 'please call': 26920,\n",
              " 'call 08712300220': 6571,\n",
              " '08712300220 quoting': 200,\n",
              " 'quoting claim': 27894,\n",
              " 'claim code': 7691,\n",
              " 'code 3100': 7888,\n",
              " '3100 standard': 1022,\n",
              " 'standard rates': 31723,\n",
              " 'rates app': 27989,\n",
              " 'now': 24165,\n",
              " 'only': 25387,\n",
              " 'took': 35810,\n",
              " 'tablets': 32580,\n",
              " 'reaction': 28111,\n",
              " 'now only': 24274,\n",
              " 'only took': 25473,\n",
              " 'took tablets': 35820,\n",
              " 'tablets reaction': 32581,\n",
              " 'reaction morning': 28112,\n",
              " 'morning only': 22371,\n",
              " 'what': 38398,\n",
              " 'did': 9597,\n",
              " 'bank': 4719,\n",
              " 'say': 29317,\n",
              " 'about': 1746,\n",
              " 'money': 22203,\n",
              " 'so what': 31065,\n",
              " 'what did': 38408,\n",
              " 'did the': 9638,\n",
              " 'the bank': 33472,\n",
              " 'bank say': 4724,\n",
              " 'say about': 29318,\n",
              " 'about the': 1794,\n",
              " 'the money': 33719,\n",
              " 'wat': 37801,\n",
              " 'liao': 19665,\n",
              " 'where': 38606,\n",
              " 'still': 31882,\n",
              " 'got': 14154,\n",
              " 'wat time': 37832,\n",
              " 'time liao': 34824,\n",
              " 'liao where': 19677,\n",
              " 'where still': 38632,\n",
              " 'still got': 31911,\n",
              " 'good': 14030,\n",
              " 'lets': 19643,\n",
              " 'thank': 33141,\n",
              " 'god': 13876,\n",
              " 'complete': 8182,\n",
              " 'drug': 10554,\n",
              " 'lots': 20437,\n",
              " 'of': 24494,\n",
              " 'water': 37884,\n",
              " 'beautiful': 5032,\n",
              " 'day': 9124,\n",
              " 'that good': 33257,\n",
              " 'good lets': 14074,\n",
              " 'lets thank': 19653,\n",
              " 'thank god': 33142,\n",
              " 'god please': 13894,\n",
              " 'please complete': 26922,\n",
              " 'complete the': 8185,\n",
              " 'the drug': 33565,\n",
              " 'drug have': 10558,\n",
              " 'have lots': 15181,\n",
              " 'lots of': 20439,\n",
              " 'of water': 24724,\n",
              " 'water and': 37885,\n",
              " 'and have': 3061,\n",
              " 'have beautiful': 15117,\n",
              " 'beautiful day': 5033,\n",
              " 'am': 2681,\n",
              " 'at': 4142,\n",
              " 'gas': 13307,\n",
              " 'station': 31802,\n",
              " 'go': 13759,\n",
              " 'there': 34131,\n",
              " 'am at': 2687,\n",
              " 'at the': 4262,\n",
              " 'the gas': 33614,\n",
              " 'gas station': 13312,\n",
              " 'station go': 31803,\n",
              " 'go there': 13846,\n",
              " 'ooh': 25492,\n",
              " '4got': 1201,\n",
              " 'start': 31738,\n",
              " 'belly': 5278,\n",
              " 'dancing': 9023,\n",
              " 'moseley': 22391,\n",
              " 'weds': 38118,\n",
              " '30': 986,\n",
              " 'want': 37586,\n",
              " 'join': 18472,\n",
              " 'me': 21219,\n",
              " 'they': 34239,\n",
              " 'cafe': 6523,\n",
              " 'ooh 4got': 25493,\n",
              " '4got gonna': 1202,\n",
              " 'gonna start': 14023,\n",
              " 'start belly': 31741,\n",
              " 'belly dancing': 5280,\n",
              " 'dancing in': 9024,\n",
              " 'in moseley': 17206,\n",
              " 'moseley weds': 22392,\n",
              " 'weds 30': 38119,\n",
              " '30 if': 989,\n",
              " 'if want': 16848,\n",
              " 'want join': 37603,\n",
              " 'join me': 18478,\n",
              " 'me they': 21407,\n",
              " 'they have': 34263,\n",
              " 'have cafe': 15125,\n",
              " 'cafe too': 6527,\n",
              " 'yay': 39930,\n",
              " 'finally': 11993,\n",
              " 'lol': 20192,\n",
              " 'missed': 21947,\n",
              " 'our': 25872,\n",
              " 'cinema': 7668,\n",
              " 'trip': 36039,\n",
              " 'last': 19279,\n",
              " 'week': 38127,\n",
              " 'yay finally': 39932,\n",
              " 'finally lol': 12000,\n",
              " 'lol missed': 20204,\n",
              " 'missed our': 21956,\n",
              " 'our cinema': 25884,\n",
              " 'cinema trip': 7671,\n",
              " 'trip last': 36043,\n",
              " 'last week': 19301,\n",
              " 'mm': 22008,\n",
              " 'ask': 4025,\n",
              " 'come': 8008,\n",
              " 'enough': 11056,\n",
              " 'mm you': 22017,\n",
              " 'you ask': 40235,\n",
              " 'ask him': 4043,\n",
              " 'him to': 15982,\n",
              " 'to come': 35118,\n",
              " 'come its': 8036,\n",
              " 'its enough': 18206,\n",
              " 'really': 28175,\n",
              " 'dun': 10619,\n",
              " 'bluff': 5631,\n",
              " 'leh': 19556,\n",
              " 'early': 10704,\n",
              " 'nite': 23612,\n",
              " 'really dun': 28189,\n",
              " 'dun bluff': 10621,\n",
              " 'bluff me': 5633,\n",
              " 'me leh': 21333,\n",
              " 'leh sleep': 19570,\n",
              " 'sleep early': 30630,\n",
              " 'early too': 10721,\n",
              " 'too nite': 35794,\n",
              " 'message': 21660,\n",
              " 'from': 12982,\n",
              " 'truro': 36097,\n",
              " 'hospital': 16350,\n",
              " 'ext': 11547,\n",
              " 'here': 15706,\n",
              " 'as': 3938,\n",
              " 'by': 6435,\n",
              " 'side': 30406,\n",
              " 'message from': 21667,\n",
              " 'from am': 13000,\n",
              " 'at truro': 4267,\n",
              " 'truro hospital': 36098,\n",
              " 'hospital on': 16356,\n",
              " 'on ext': 25129,\n",
              " 'ext you': 11548,\n",
              " 'you can': 40266,\n",
              " 'can phone': 6945,\n",
              " 'phone me': 26627,\n",
              " 'me here': 21311,\n",
              " 'here as': 15715,\n",
              " 'as have': 3956,\n",
              " 'have phone': 15209,\n",
              " 'phone by': 26610,\n",
              " 'by my': 6472,\n",
              " 'my side': 22983,\n",
              " 'wake': 37486,\n",
              " 'already': 2519,\n",
              " 'picking': 26708,\n",
              " 'us': 36937,\n",
              " 'later': 19344,\n",
              " 'rite': 28822,\n",
              " 'taking': 32669,\n",
              " 'sq825': 31681,\n",
              " 'reaching': 28105,\n",
              " 'ard': 3676,\n",
              " 'smth': 30848,\n",
              " 'dat': 9069,\n",
              " 'check': 7475,\n",
              " 'arrival': 3918,\n",
              " 'ya': 39875,\n",
              " 'soon': 31325,\n",
              " 'wake up': 37492,\n",
              " 'up already': 36605,\n",
              " 'already wat': 2556,\n",
              " 'wat doing': 37810,\n",
              " 'doing picking': 10140,\n",
              " 'picking us': 26713,\n",
              " 'us up': 36964,\n",
              " 'up later': 36649,\n",
              " 'later rite': 19372,\n",
              " 'rite taking': 28828,\n",
              " 'taking sq825': 32680,\n",
              " 'sq825 reaching': 31682,\n",
              " 'reaching ard': 28106,\n",
              " 'ard smth': 3688,\n",
              " 'smth like': 30854,\n",
              " 'like dat': 19794,\n",
              " 'dat can': 9073,\n",
              " 'can check': 6882,\n",
              " 'check arrival': 7479,\n",
              " 'arrival time': 3919,\n",
              " 'time ya': 34862,\n",
              " 'ya soon': 39897,\n",
              " 'dont': 10272,\n",
              " 'exactly': 11422,\n",
              " 'could': 8541,\n",
              " 'chechi': 7474,\n",
              " 'dont know': 10297,\n",
              " 'know exactly': 19040,\n",
              " 'exactly could': 11424,\n",
              " 'could you': 8570,\n",
              " 'ask chechi': 4035,\n",
              " 'dunno': 10642,\n",
              " 'get': 13415,\n",
              " 'her': 15639,\n",
              " 'can dunno': 6901,\n",
              " 'dunno wat': 10656,\n",
              " 'wat to': 37833,\n",
              " 'to get': 35197,\n",
              " 'get her': 13473,\n",
              " 'around': 3874,\n",
              " 'use': 36974,\n",
              " 'half': 14842,\n",
              " '8th': 1672,\n",
              " 'you still': 40533,\n",
              " 'still around': 31884,\n",
              " 'around could': 3881,\n",
              " 'could use': 8568,\n",
              " 'use half': 36978,\n",
              " 'half 8th': 14843,\n",
              " 'should': 30254,\n",
              " 'buy': 6370,\n",
              " 'blackberry': 5538,\n",
              " 'bold': 5657,\n",
              " 'torch': 35861,\n",
              " 'new': 23384,\n",
              " 'used': 36999,\n",
              " 'let': 19626,\n",
              " 'plus': 27027,\n",
              " 'saying': 29377,\n",
              " 'lt': 20618,\n",
              " 'gt': 14467,\n",
              " 'wifi': 38870,\n",
              " 'ipad': 17584,\n",
              " 'should buy': 30260,\n",
              " 'buy him': 6384,\n",
              " 'him blackberry': 15942,\n",
              " 'blackberry bold': 5539,\n",
              " 'bold or': 5660,\n",
              " 'or torch': 25702,\n",
              " 'torch should': 35865,\n",
              " 'him new': 15965,\n",
              " 'new or': 23413,\n",
              " 'or used': 25708,\n",
              " 'used let': 37005,\n",
              " 'let me': 19637,\n",
              " 'me know': 21329,\n",
              " 'know plus': 19072,\n",
              " 'plus are': 27028,\n",
              " 'are you': 3815,\n",
              " 'you saying': 40485,\n",
              " 'saying should': 29385,\n",
              " 'buy the': 6403,\n",
              " 'the lt': 33695,\n",
              " 'lt gt': 20622,\n",
              " 'gt wifi': 14577,\n",
              " 'wifi ipad': 38871,\n",
              " 'ipad and': 17585,\n",
              " 'and what': 3285,\n",
              " 'what are': 38401,\n",
              " 'saying about': 29378,\n",
              " 'the about': 33445,\n",
              " 'll': 20054,\n",
              " 'all': 2375,\n",
              " 'creepy': 8701,\n",
              " 'he': 15333,\n",
              " 'won': 39369,\n",
              " 'think': 34357,\n",
              " 'forgot': 12613,\n",
              " 'll text': 20116,\n",
              " 'text now': 33032,\n",
              " 'now all': 24187,\n",
              " 'all creepy': 2392,\n",
              " 'creepy like': 8703,\n",
              " 'like so': 19862,\n",
              " 'so he': 30973,\n",
              " 'he won': 15436,\n",
              " 'won think': 39397,\n",
              " 'think that': 34390,\n",
              " 'that we': 33388,\n",
              " 'we forgot': 37978,\n",
              " 'cause': 7246,\n",
              " 'yelling': 40024,\n",
              " 'scrappy': 29479,\n",
              " 'miss': 21920,\n",
              " 'wait': 37443,\n",
              " 'home': 16163,\n",
              " 'lonely': 20236,\n",
              " 'today': 35516,\n",
              " 'missed your': 21959,\n",
              " 'your call': 40671,\n",
              " 'call cause': 6679,\n",
              " 'cause was': 7258,\n",
              " 'was yelling': 37780,\n",
              " 'yelling at': 40025,\n",
              " 'at scrappy': 4254,\n",
              " 'scrappy miss': 29480,\n",
              " 'miss can': 21925,\n",
              " 'can wait': 6992,\n",
              " 'wait for': 37452,\n",
              " 'for to': 12545,\n",
              " 'come home': 8032,\n",
              " 'home so': 16216,\n",
              " 'so lonely': 30991,\n",
              " 'lonely today': 20240,\n",
              " 'pookie': 27177,\n",
              " 'didn': 9656,\n",
              " 'good morning': 14082,\n",
              " 'morning pookie': 22373,\n",
              " 'pookie pie': 27178,\n",
              " 'pie lol': 26739,\n",
              " 'lol hope': 20200,\n",
              " 'hope didn': 16282,\n",
              " 'didn wake': 9678,\n",
              " 'voicemail': 37357,\n",
              " '08719181513': 293,\n",
              " 'have new': 15197,\n",
              " 'new voicemail': 23430,\n",
              " 'voicemail please': 37358,\n",
              " 'call 08719181513': 6601,\n",
              " 'she': 30033,\n",
              " 'find': 12008,\n",
              " 'sent': 29795,\n",
              " 'an': 2849,\n",
              " 'offline': 24829,\n",
              " 'how': 16440,\n",
              " 'anjola': 3328,\n",
              " 'she find': 30057,\n",
              " 'find sent': 12024,\n",
              " 'sent you': 29820,\n",
              " 'you an': 40225,\n",
              " 'an offline': 2892,\n",
              " 'offline message': 24830,\n",
              " 'message to': 21691,\n",
              " 'to know': 35247,\n",
              " 'know how': 19050,\n",
              " 'how anjola': 16444,\n",
              " 'anjola now': 3329,\n",
              " 'dear where': 9312,\n",
              " 'where you': 38644,\n",
              " 'you call': 40262,\n",
              " 'call me': 6705,\n",
              " 'ooooooh': 25496,\n",
              " 'tell': 32857,\n",
              " 'yoville': 40917,\n",
              " 'ooooooh forgot': 25497,\n",
              " 'forgot to': 12625,\n",
              " 'to tell': 35428,\n",
              " 'tell can': 32862,\n",
              " 'can get': 6910,\n",
              " 'get on': 13508,\n",
              " 'on yoville': 25245,\n",
              " 'yoville on': 40918,\n",
              " 'on my': 25176,\n",
              " 'my phone': 22951,\n",
              " 'eastenders': 10738,\n",
              " 'tv': 36194,\n",
              " 'quiz': 27879,\n",
              " 'flower': 12247,\n",
              " 'does': 10046,\n",
              " 'dot': 10351,\n",
              " 'compare': 8168,\n",
              " 'herself': 15770,\n",
              " 'violet': 37302,\n",
              " 'tulip': 36169,\n",
              " 'lily': 19903,\n",
              " 'txt': 36256,\n",
              " '84025': 1562,\n",
              " 'chance': 7338,\n",
              " 'win': 39024,\n",
              " '100': 481,\n",
              " 'cash': 7199,\n",
              " 'wkent': 39325,\n",
              " '150p16': 645,\n",
              " 'eastenders tv': 10739,\n",
              " 'tv quiz': 36205,\n",
              " 'quiz what': 27883,\n",
              " 'what flower': 38415,\n",
              " 'flower does': 12249,\n",
              " 'does dot': 10051,\n",
              " 'dot compare': 10352,\n",
              " 'compare herself': 8169,\n",
              " 'herself to': 15771,\n",
              " 'to violet': 35471,\n",
              " 'violet tulip': 37303,\n",
              " 'tulip lily': 36170,\n",
              " 'lily txt': 19904,\n",
              " 'txt or': 36289,\n",
              " 'or to': 25701,\n",
              " 'to 84025': 35013,\n",
              " '84025 now': 1563,\n",
              " 'now chance': 24206,\n",
              " 'chance win': 7346,\n",
              " 'win 100': 39025,\n",
              " '100 cash': 483,\n",
              " 'cash wkent': 7219,\n",
              " 'wkent 150p16': 39326,\n",
              " 'tough': 35910,\n",
              " 'but': 6200,\n",
              " 'it ll': 18056,\n",
              " 'll be': 20057,\n",
              " 'be tough': 5006,\n",
              " 'tough but': 35911,\n",
              " 'but ll': 6280,\n",
              " 'll do': 20065,\n",
              " 'do what': 10018,\n",
              " 'what have': 38425,\n",
              " 'have to': 15251,\n",
              " 'italian': 18174,\n",
              " 'food': 12308,\n",
              " 'pretty': 27421,\n",
              " 'dress': 10462,\n",
              " 'panties': 26229,\n",
              " 'am taking': 2747,\n",
              " 'taking you': 32683,\n",
              " 'you for': 40320,\n",
              " 'for italian': 12448,\n",
              " 'italian food': 18175,\n",
              " 'food how': 12315,\n",
              " 'how about': 16442,\n",
              " 'about pretty': 1786,\n",
              " 'pretty dress': 27424,\n",
              " 'dress with': 10465,\n",
              " 'with no': 39217,\n",
              " 'no panties': 23737,\n",
              " 'office': 24803,\n",
              " 'pm': 27059,\n",
              " 'going': 13930,\n",
              " 'be office': 4952,\n",
              " 'office around': 24804,\n",
              " 'around pm': 3896,\n",
              " 'pm now': 27063,\n",
              " 'now am': 24189,\n",
              " 'am going': 2703,\n",
              " 'going hospital': 13945,\n",
              " 'anyway': 3540,\n",
              " 'holla': 16151,\n",
              " 'whenever': 38597,\n",
              " 're': 28025,\n",
              " 'because': 5047,\n",
              " 'need': 23206,\n",
              " 'excuse': 11454,\n",
              " 'creep': 8699,\n",
              " 'sarasota': 29225,\n",
              " 'anyway holla': 3549,\n",
              " 'holla at': 16152,\n",
              " 'at me': 4229,\n",
              " 'me whenever': 21436,\n",
              " 'whenever you': 38600,\n",
              " 'you re': 40463,\n",
              " 're around': 28027,\n",
              " 'around because': 3878,\n",
              " 'because need': 5059,\n",
              " 'need an': 23208,\n",
              " 'an excuse': 2875,\n",
              " 'excuse to': 11458,\n",
              " 'to go': 35199,\n",
              " 'go creep': 13781,\n",
              " 'creep on': 8700,\n",
              " 'on people': 25187,\n",
              " 'people in': 26463,\n",
              " 'in sarasota': 17257,\n",
              " 'tomarrow': 35630,\n",
              " 'court': 8607,\n",
              " 'decimal': 9355,\n",
              " 'bus': 6161,\n",
              " 'stand': 31716,\n",
              " 'tomarrow want': 35632,\n",
              " 'want to': 37622,\n",
              " 'to got': 35201,\n",
              " 'got to': 14261,\n",
              " 'to court': 35130,\n",
              " 'court at': 8608,\n",
              " 'at lt': 4226,\n",
              " 'lt decimal': 20620,\n",
              " 'decimal gt': 9356,\n",
              " 'gt so': 14555,\n",
              " 'so you': 31071,\n",
              " 'you come': 40275,\n",
              " 'come to': 8062,\n",
              " 'to bus': 35096,\n",
              " 'bus stand': 6173,\n",
              " 'stand at': 31717,\n",
              " 'send': 29714,\n",
              " 'min': 21783,\n",
              " 'will send': 38989,\n",
              " 'send in': 29731,\n",
              " 'in lt': 17190,\n",
              " 'gt min': 14533,\n",
              " 'thanx': 33176,\n",
              " 'lot': 20418,\n",
              " 'thanx lot': 33183,\n",
              " 'lot ur': 20431,\n",
              " 'ur help': 36808,\n",
              " 'cute': 8862,\n",
              " 'thought': 34614,\n",
              " 'friendship': 12928,\n",
              " 'necessary': 23197,\n",
              " 'share': 30012,\n",
              " 'every': 11308,\n",
              " 'secret': 29555,\n",
              " 'close': 7791,\n",
              " 'frnd': 12953,\n",
              " 'watever': 37891,\n",
              " 'shared': 30018,\n",
              " 'true': 36078,\n",
              " 'cute thought': 8866,\n",
              " 'thought for': 34624,\n",
              " 'for friendship': 12425,\n",
              " 'friendship its': 12934,\n",
              " 'its not': 18241,\n",
              " 'not necessary': 24039,\n",
              " 'necessary to': 23198,\n",
              " 'to share': 35386,\n",
              " 'share every': 30014,\n",
              " 'every secret': 11324,\n",
              " 'secret with': 29559,\n",
              " 'with ur': 39258,\n",
              " 'ur close': 36765,\n",
              " 'close frnd': 7795,\n",
              " 'frnd but': 12954,\n",
              " 'but watever': 6349,\n",
              " 'watever shared': 37893,\n",
              " 'shared should': 30019,\n",
              " 'should be': 30258,\n",
              " 'be true': 5007,\n",
              " 'sorry': 31364,\n",
              " 'ever': 11283,\n",
              " 'angry': 3317,\n",
              " 'misbehaved': 21914,\n",
              " 'hurt': 16639,\n",
              " 'plz': 27046,\n",
              " 'slap': 30616,\n",
              " 'urself': 36930,\n",
              " 'bcoz': 4841,\n",
              " 'fault': 11759,\n",
              " 'basically': 4768,\n",
              " 'today is': 35540,\n",
              " 'is sorry': 17833,\n",
              " 'sorry day': 31376,\n",
              " 'day if': 9162,\n",
              " 'if ever': 16787,\n",
              " 'ever was': 11306,\n",
              " 'was angry': 37676,\n",
              " 'angry with': 3322,\n",
              " 'with you': 39267,\n",
              " 'you if': 40362,\n",
              " 'ever misbehaved': 11297,\n",
              " 'misbehaved or': 21915,\n",
              " 'or hurt': 25627,\n",
              " 'hurt you': 16650,\n",
              " 'you plz': 40457,\n",
              " 'plz plz': 27054,\n",
              " 'plz just': 27050,\n",
              " 'just slap': 18718,\n",
              " 'slap urself': 30617,\n",
              " 'urself bcoz': 36931,\n",
              " 'bcoz its': 4846,\n",
              " 'its ur': 18282,\n",
              " 'ur fault': 36786,\n",
              " 'fault basically': 11762,\n",
              " 'basically good': 4770,\n",
              " 'oh': 24844,\n",
              " 'google': 14140,\n",
              " 'nearby': 23183,\n",
              " 'cliffs': 7783,\n",
              " 'oh god': 24857,\n",
              " 'god gonna': 13887,\n",
              " 'gonna google': 14010,\n",
              " 'google nearby': 14142,\n",
              " 'nearby cliffs': 23184,\n",
              " 'cliffs now': 7784,\n",
              " 'meeting': 21572,\n",
              " 'then': 34022,\n",
              " 'lor': 20326,\n",
              " 'feel': 11810,\n",
              " 'comin': 8098,\n",
              " 'if not': 16818,\n",
              " 'not meeting': 24033,\n",
              " 'meeting all': 21573,\n",
              " 'all rite': 2435,\n",
              " 'rite then': 28829,\n",
              " 'then ll': 34074,\n",
              " 'll go': 20076,\n",
              " 'go home': 13800,\n",
              " 'home lor': 16204,\n",
              " 'lor if': 20352,\n",
              " 'if dun': 16786,\n",
              " 'dun feel': 10625,\n",
              " 'feel like': 11822,\n",
              " 'like comin': 19793,\n",
              " 'comin it': 8103,\n",
              " 'it ok': 18081,\n",
              " 'keep': 18847,\n",
              " 'payasam': 26402,\n",
              " 'rinu': 28814,\n",
              " 'brings': 6001,\n",
              " 'keep my': 18860,\n",
              " 'my payasam': 22950,\n",
              " 'payasam there': 26403,\n",
              " 'there if': 34168,\n",
              " 'if rinu': 16822,\n",
              " 'rinu brings': 28815,\n",
              " 'jus': 18571,\n",
              " 'telling': 32893,\n",
              " 'leaving': 19506,\n",
              " 'shanghai': 30004,\n",
              " '21st': 809,\n",
              " 'instead': 17472,\n",
              " 'haf': 14775,\n",
              " 'cya': 8889,\n",
              " 'jus telling': 18591,\n",
              " 'telling dat': 32894,\n",
              " 'dat ll': 9083,\n",
              " 'll leaving': 20090,\n",
              " 'leaving shanghai': 19515,\n",
              " 'shanghai on': 30005,\n",
              " 'on 21st': 25098,\n",
              " '21st instead': 810,\n",
              " 'instead so': 17476,\n",
              " 'so we': 31063,\n",
              " 'we ll': 38000,\n",
              " 'll haf': 20080,\n",
              " 'haf more': 14784,\n",
              " 'time meet': 34827,\n",
              " 'meet up': 21563,\n",
              " 'up cya': 36621,\n",
              " 'sir': 30507,\n",
              " 'salam': 29143,\n",
              " 'alaikkum': 2335,\n",
              " 'pride': 27455,\n",
              " 'pleasure': 26958,\n",
              " 'tea': 32786,\n",
              " 'shop': 30193,\n",
              " 'pleased': 26953,\n",
              " 'contact': 8323,\n",
              " 'qatar': 27796,\n",
              " 'rakhesh': 27940,\n",
              " 'indian': 17380,\n",
              " 'save': 29283,\n",
              " 'respectful': 28635,\n",
              " 'regards': 28383,\n",
              " 'dear sir': 9296,\n",
              " 'sir salam': 30515,\n",
              " 'salam alaikkum': 29144,\n",
              " 'alaikkum pride': 2336,\n",
              " 'pride and': 27457,\n",
              " 'and pleasure': 3158,\n",
              " 'pleasure meeting': 26960,\n",
              " 'meeting you': 21593,\n",
              " 'you today': 40563,\n",
              " 'today at': 35522,\n",
              " 'the tea': 33881,\n",
              " 'tea shop': 32791,\n",
              " 'shop we': 30204,\n",
              " 'we are': 37948,\n",
              " 'are pleased': 3765,\n",
              " 'pleased to': 26954,\n",
              " 'to send': 35383,\n",
              " 'send you': 29765,\n",
              " 'you our': 40440,\n",
              " 'our contact': 25887,\n",
              " 'contact number': 8331,\n",
              " 'number at': 24378,\n",
              " 'at qatar': 4251,\n",
              " 'qatar rakhesh': 27798,\n",
              " 'rakhesh an': 27941,\n",
              " 'an indian': 2887,\n",
              " 'indian pls': 17382,\n",
              " 'pls save': 27008,\n",
              " 'save our': 29287,\n",
              " 'our number': 25919,\n",
              " 'number respectful': 24396,\n",
              " 'respectful regards': 28636,\n",
              " 'coming': 8108,\n",
              " 'dinner': 9776,\n",
              " 'coming home': 8116,\n",
              " 'home dinner': 16186,\n",
              " 'thanks': 33146,\n",
              " 'bomb': 5668,\n",
              " 'date': 9097,\n",
              " 'wanted': 37627,\n",
              " 'thanks and': 33148,\n",
              " 'and or': 3144,\n",
              " 'or bomb': 25589,\n",
              " 'bomb and': 5669,\n",
              " 'and date': 2983,\n",
              " 'date as': 9099,\n",
              " 'as my': 3971,\n",
              " 'phone wanted': 26646,\n",
              " 'wanted to': 37634,\n",
              " 'to say': 35376,\n",
              " 'usually': 37042,\n",
              " 'take': 32600,\n",
              " 'fucking': 13135,\n",
              " 'respond': 28639,\n",
              " 'question': 27819,\n",
              " 'does she': 10057,\n",
              " 'she usually': 30099,\n",
              " 'usually take': 37046,\n",
              " 'take fifteen': 32610,\n",
              " 'fifteen fucking': 11933,\n",
              " 'fucking minutes': 13142,\n",
              " 'minutes to': 21900,\n",
              " 'to respond': 35357,\n",
              " 'respond to': 28643,\n",
              " 'to yes': 35500,\n",
              " ...}"
            ]
          },
          "metadata": {},
          "execution_count": 68
        }
      ]
    },
    {
      "cell_type": "code",
      "source": [
        "#Convert sms train data into numerical feature\n",
        "\n",
        "X_train_ngram=tvect_ngram.transform(sms_train)"
      ],
      "metadata": {
        "id": "2KExwwaoHI7C"
      },
      "execution_count": null,
      "outputs": []
    },
    {
      "cell_type": "code",
      "source": [
        "X_train_ngram.shape"
      ],
      "metadata": {
        "colab": {
          "base_uri": "https://localhost:8080/"
        },
        "id": "4ENdHG9UHsfQ",
        "outputId": "42e85e57-ff11-40a8-c44c-d66a58aafc71"
      },
      "execution_count": null,
      "outputs": [
        {
          "output_type": "execute_result",
          "data": {
            "text/plain": [
              "(4179, 41004)"
            ]
          },
          "metadata": {},
          "execution_count": 70
        }
      ]
    },
    {
      "cell_type": "code",
      "source": [
        "#Test data to numerical\n",
        "X_test_ngram=tvect_ngram.transform(sms_test)"
      ],
      "metadata": {
        "id": "Bs4LgAkIHv9Y"
      },
      "execution_count": null,
      "outputs": []
    },
    {
      "cell_type": "code",
      "source": [
        "svc_tf=SVC()"
      ],
      "metadata": {
        "id": "MViX2gaHH67A"
      },
      "execution_count": null,
      "outputs": []
    },
    {
      "cell_type": "code",
      "source": [
        "svc_tf.fit(X_train_ngram, y_train)"
      ],
      "metadata": {
        "colab": {
          "base_uri": "https://localhost:8080/",
          "height": 74
        },
        "id": "X_TAqiHQIco9",
        "outputId": "1b65647c-1a42-47a0-a449-94f17ac4d2c6"
      },
      "execution_count": null,
      "outputs": [
        {
          "output_type": "execute_result",
          "data": {
            "text/plain": [
              "SVC()"
            ],
            "text/html": [
              "<style>#sk-container-id-7 {color: black;background-color: white;}#sk-container-id-7 pre{padding: 0;}#sk-container-id-7 div.sk-toggleable {background-color: white;}#sk-container-id-7 label.sk-toggleable__label {cursor: pointer;display: block;width: 100%;margin-bottom: 0;padding: 0.3em;box-sizing: border-box;text-align: center;}#sk-container-id-7 label.sk-toggleable__label-arrow:before {content: \"▸\";float: left;margin-right: 0.25em;color: #696969;}#sk-container-id-7 label.sk-toggleable__label-arrow:hover:before {color: black;}#sk-container-id-7 div.sk-estimator:hover label.sk-toggleable__label-arrow:before {color: black;}#sk-container-id-7 div.sk-toggleable__content {max-height: 0;max-width: 0;overflow: hidden;text-align: left;background-color: #f0f8ff;}#sk-container-id-7 div.sk-toggleable__content pre {margin: 0.2em;color: black;border-radius: 0.25em;background-color: #f0f8ff;}#sk-container-id-7 input.sk-toggleable__control:checked~div.sk-toggleable__content {max-height: 200px;max-width: 100%;overflow: auto;}#sk-container-id-7 input.sk-toggleable__control:checked~label.sk-toggleable__label-arrow:before {content: \"▾\";}#sk-container-id-7 div.sk-estimator input.sk-toggleable__control:checked~label.sk-toggleable__label {background-color: #d4ebff;}#sk-container-id-7 div.sk-label input.sk-toggleable__control:checked~label.sk-toggleable__label {background-color: #d4ebff;}#sk-container-id-7 input.sk-hidden--visually {border: 0;clip: rect(1px 1px 1px 1px);clip: rect(1px, 1px, 1px, 1px);height: 1px;margin: -1px;overflow: hidden;padding: 0;position: absolute;width: 1px;}#sk-container-id-7 div.sk-estimator {font-family: monospace;background-color: #f0f8ff;border: 1px dotted black;border-radius: 0.25em;box-sizing: border-box;margin-bottom: 0.5em;}#sk-container-id-7 div.sk-estimator:hover {background-color: #d4ebff;}#sk-container-id-7 div.sk-parallel-item::after {content: \"\";width: 100%;border-bottom: 1px solid gray;flex-grow: 1;}#sk-container-id-7 div.sk-label:hover label.sk-toggleable__label {background-color: #d4ebff;}#sk-container-id-7 div.sk-serial::before {content: \"\";position: absolute;border-left: 1px solid gray;box-sizing: border-box;top: 0;bottom: 0;left: 50%;z-index: 0;}#sk-container-id-7 div.sk-serial {display: flex;flex-direction: column;align-items: center;background-color: white;padding-right: 0.2em;padding-left: 0.2em;position: relative;}#sk-container-id-7 div.sk-item {position: relative;z-index: 1;}#sk-container-id-7 div.sk-parallel {display: flex;align-items: stretch;justify-content: center;background-color: white;position: relative;}#sk-container-id-7 div.sk-item::before, #sk-container-id-7 div.sk-parallel-item::before {content: \"\";position: absolute;border-left: 1px solid gray;box-sizing: border-box;top: 0;bottom: 0;left: 50%;z-index: -1;}#sk-container-id-7 div.sk-parallel-item {display: flex;flex-direction: column;z-index: 1;position: relative;background-color: white;}#sk-container-id-7 div.sk-parallel-item:first-child::after {align-self: flex-end;width: 50%;}#sk-container-id-7 div.sk-parallel-item:last-child::after {align-self: flex-start;width: 50%;}#sk-container-id-7 div.sk-parallel-item:only-child::after {width: 0;}#sk-container-id-7 div.sk-dashed-wrapped {border: 1px dashed gray;margin: 0 0.4em 0.5em 0.4em;box-sizing: border-box;padding-bottom: 0.4em;background-color: white;}#sk-container-id-7 div.sk-label label {font-family: monospace;font-weight: bold;display: inline-block;line-height: 1.2em;}#sk-container-id-7 div.sk-label-container {text-align: center;}#sk-container-id-7 div.sk-container {/* jupyter's `normalize.less` sets `[hidden] { display: none; }` but bootstrap.min.css set `[hidden] { display: none !important; }` so we also need the `!important` here to be able to override the default hidden behavior on the sphinx rendered scikit-learn.org. See: https://github.com/scikit-learn/scikit-learn/issues/21755 */display: inline-block !important;position: relative;}#sk-container-id-7 div.sk-text-repr-fallback {display: none;}</style><div id=\"sk-container-id-7\" class=\"sk-top-container\"><div class=\"sk-text-repr-fallback\"><pre>SVC()</pre><b>In a Jupyter environment, please rerun this cell to show the HTML representation or trust the notebook. <br />On GitHub, the HTML representation is unable to render, please try loading this page with nbviewer.org.</b></div><div class=\"sk-container\" hidden><div class=\"sk-item\"><div class=\"sk-estimator sk-toggleable\"><input class=\"sk-toggleable__control sk-hidden--visually\" id=\"sk-estimator-id-7\" type=\"checkbox\" checked><label for=\"sk-estimator-id-7\" class=\"sk-toggleable__label sk-toggleable__label-arrow\">SVC</label><div class=\"sk-toggleable__content\"><pre>SVC()</pre></div></div></div></div></div>"
            ]
          },
          "metadata": {},
          "execution_count": 73
        }
      ]
    },
    {
      "cell_type": "code",
      "source": [
        "#Check the accuaracy of the mode;l\n",
        "metrics.accuracy_score(y_train, svc_tf.predict(X_train_ngram))"
      ],
      "metadata": {
        "colab": {
          "base_uri": "https://localhost:8080/"
        },
        "id": "LNsBEscmIijm",
        "outputId": "cbe7f0cc-59bb-4d02-b35d-66b22fe9d9ed"
      },
      "execution_count": null,
      "outputs": [
        {
          "output_type": "execute_result",
          "data": {
            "text/plain": [
              "0.9992821249102656"
            ]
          },
          "metadata": {},
          "execution_count": 74
        }
      ]
    },
    {
      "cell_type": "markdown",
      "source": [
        "### 7. Building a Deep Learning Model"
      ],
      "metadata": {
        "id": "xL8H_Q1fKjTG"
      }
    },
    {
      "cell_type": "code",
      "source": [
        "import tensorflow as tf"
      ],
      "metadata": {
        "id": "VtVw-OoNk9d0"
      },
      "execution_count": null,
      "outputs": []
    },
    {
      "cell_type": "markdown",
      "source": [
        "We will use count vectorizer as feature here"
      ],
      "metadata": {
        "id": "XcYBd5SwlFbQ"
      }
    },
    {
      "cell_type": "code",
      "source": [
        "#Start building a keras sequential Model\n",
        "tf.keras.backend.clear_session()\n",
        "model=tf.keras.Sequential()"
      ],
      "metadata": {
        "id": "U_cws_xClMtP"
      },
      "execution_count": null,
      "outputs": []
    },
    {
      "cell_type": "code",
      "source": [
        "#Add hidden layers\n",
        "\n",
        "model.add(tf.keras.layers.Dense(100, activation='relu', input_shape=(len(tvect.vocabulary_),)))\n",
        "model.add(tf.keras.layers.Dropout(0.4))\n",
        "model.add(tf.keras.layers.Dense(50, activation='relu'))\n",
        "model.add(tf.keras.layers.Dropout(0.4))\n",
        "\n",
        "#Adding output layer\n",
        "model.add(tf.keras.layers.Dense(1, activation='sigmoid'))"
      ],
      "metadata": {
        "id": "z_-gSFkSlec8"
      },
      "execution_count": null,
      "outputs": []
    },
    {
      "cell_type": "code",
      "source": [
        "#Compile the model\n",
        "model.compile(optimizer='adam', loss='binary_crossentropy', metrics=['accuracy'])"
      ],
      "metadata": {
        "id": "3QvdKCHpm-i4"
      },
      "execution_count": null,
      "outputs": []
    },
    {
      "cell_type": "code",
      "source": [
        "model.summary()"
      ],
      "metadata": {
        "colab": {
          "base_uri": "https://localhost:8080/"
        },
        "id": "C5vPjq9FoVki",
        "outputId": "3d744abd-085d-4215-b312-4bb23618b067"
      },
      "execution_count": null,
      "outputs": [
        {
          "output_type": "stream",
          "name": "stdout",
          "text": [
            "Model: \"sequential\"\n",
            "_________________________________________________________________\n",
            " Layer (type)                Output Shape              Param #   \n",
            "=================================================================\n",
            " dense (Dense)               (None, 100)               745100    \n",
            "                                                                 \n",
            " dropout (Dropout)           (None, 100)               0         \n",
            "                                                                 \n",
            " dense_1 (Dense)             (None, 50)                5050      \n",
            "                                                                 \n",
            " dropout_1 (Dropout)         (None, 50)                0         \n",
            "                                                                 \n",
            " dense_2 (Dense)             (None, 1)                 51        \n",
            "                                                                 \n",
            "=================================================================\n",
            "Total params: 750,201\n",
            "Trainable params: 750,201\n",
            "Non-trainable params: 0\n",
            "_________________________________________________________________\n"
          ]
        }
      ]
    },
    {
      "cell_type": "code",
      "metadata": {
        "id": "nigCTrwjXeWM",
        "colab": {
          "base_uri": "https://localhost:8080/"
        },
        "outputId": "9a2b792a-68cb-40de-9f9a-e3a698978c6f"
      },
      "source": [
        "X_train_ct.todense()[0]"
      ],
      "execution_count": null,
      "outputs": [
        {
          "output_type": "execute_result",
          "data": {
            "text/plain": [
              "matrix([[0, 0, 0, ..., 0, 0, 0]])"
            ]
          },
          "metadata": {},
          "execution_count": 80
        }
      ]
    },
    {
      "cell_type": "code",
      "metadata": {
        "id": "Cn8kdNu3YUek",
        "colab": {
          "base_uri": "https://localhost:8080/"
        },
        "outputId": "08697e64-22d6-4ffa-a0dd-06afc93b47db"
      },
      "source": [
        "print(X_train_ct[0])"
      ],
      "execution_count": null,
      "outputs": [
        {
          "output_type": "stream",
          "name": "stdout",
          "text": [
            "  (0, 2729)\t1\n",
            "  (0, 3055)\t1\n",
            "  (0, 3219)\t1\n",
            "  (0, 3493)\t1\n",
            "  (0, 3930)\t1\n",
            "  (0, 4301)\t1\n",
            "  (0, 4703)\t1\n",
            "  (0, 6669)\t1\n",
            "  (0, 6914)\t1\n",
            "  (0, 6950)\t1\n"
          ]
        }
      ]
    },
    {
      "cell_type": "code",
      "metadata": {
        "id": "zH-LnFyXiXqc",
        "colab": {
          "base_uri": "https://localhost:8080/"
        },
        "outputId": "4cf3c58e-cb0c-4051-911a-ac67bcae2ee4"
      },
      "source": [
        "model.fit(X_train_tfidf.todense(), y_train,\n",
        "           validation_data=(X_test_tfidf.todense(), y_test), \n",
        "           epochs=10, batch_size=32)"
      ],
      "execution_count": null,
      "outputs": [
        {
          "output_type": "stream",
          "name": "stdout",
          "text": [
            "Epoch 1/10\n",
            "131/131 [==============================] - 5s 19ms/step - loss: 0.3429 - accuracy: 0.8725 - val_loss: 0.1478 - val_accuracy: 0.9648\n",
            "Epoch 2/10\n",
            "131/131 [==============================] - 2s 16ms/step - loss: 0.0617 - accuracy: 0.9878 - val_loss: 0.0792 - val_accuracy: 0.9785\n",
            "Epoch 3/10\n",
            "131/131 [==============================] - 2s 17ms/step - loss: 0.0186 - accuracy: 0.9947 - val_loss: 0.0825 - val_accuracy: 0.9785\n",
            "Epoch 4/10\n",
            "131/131 [==============================] - 2s 17ms/step - loss: 0.0078 - accuracy: 0.9981 - val_loss: 0.0964 - val_accuracy: 0.9777\n",
            "Epoch 5/10\n",
            "131/131 [==============================] - 3s 22ms/step - loss: 0.0036 - accuracy: 0.9990 - val_loss: 0.1017 - val_accuracy: 0.9785\n",
            "Epoch 6/10\n",
            "131/131 [==============================] - 2s 18ms/step - loss: 0.0021 - accuracy: 0.9998 - val_loss: 0.1082 - val_accuracy: 0.9763\n",
            "Epoch 7/10\n",
            "131/131 [==============================] - 2s 15ms/step - loss: 0.0012 - accuracy: 1.0000 - val_loss: 0.1185 - val_accuracy: 0.9763\n",
            "Epoch 8/10\n",
            "131/131 [==============================] - 2s 18ms/step - loss: 9.0635e-04 - accuracy: 0.9998 - val_loss: 0.1237 - val_accuracy: 0.9763\n",
            "Epoch 9/10\n",
            "131/131 [==============================] - 2s 15ms/step - loss: 5.2386e-04 - accuracy: 1.0000 - val_loss: 0.1225 - val_accuracy: 0.9763\n",
            "Epoch 10/10\n",
            "131/131 [==============================] - 2s 14ms/step - loss: 3.8440e-04 - accuracy: 1.0000 - val_loss: 0.1259 - val_accuracy: 0.9770\n"
          ]
        },
        {
          "output_type": "execute_result",
          "data": {
            "text/plain": [
              "<keras.callbacks.History at 0x7f581c4d0730>"
            ]
          },
          "metadata": {},
          "execution_count": 82
        }
      ]
    },
    {
      "cell_type": "markdown",
      "source": [
        "### 8. Controlling Vocabulary Size"
      ],
      "metadata": {
        "id": "irngMRtKovjq"
      }
    },
    {
      "cell_type": "markdown",
      "source": [
        "#### StopWords"
      ],
      "metadata": {
        "id": "N1gOuPjjs4Dj"
      }
    },
    {
      "cell_type": "code",
      "source": [
        "#Removing Stopwords\n",
        "vect=CountVectorizer(stop_words='english')\n",
        "vect.fit(sms_train)\n",
        "len(vect.get_feature_names_out())"
      ],
      "metadata": {
        "colab": {
          "base_uri": "https://localhost:8080/"
        },
        "id": "f-27MAm9s9FD",
        "outputId": "9f359dc5-dfcf-4a07-94fd-62d9a875a19d"
      },
      "execution_count": null,
      "outputs": [
        {
          "output_type": "execute_result",
          "data": {
            "text/plain": [
              "7191"
            ]
          },
          "metadata": {},
          "execution_count": 84
        }
      ]
    },
    {
      "cell_type": "markdown",
      "source": [
        "#### ngram range(min_n, max_n)"
      ],
      "metadata": {
        "id": "rMYGoHYyti7g"
      }
    },
    {
      "cell_type": "code",
      "source": [
        "vect = CountVectorizer(ngram_range=(1, 3))\n",
        "vect.fit(sms_train)\n",
        "len(vect.get_feature_names_out())"
      ],
      "metadata": {
        "colab": {
          "base_uri": "https://localhost:8080/"
        },
        "id": "nQDj1qn8tyGR",
        "outputId": "19542e6b-c1c9-481a-a418-05e8fc4eb9dd"
      },
      "execution_count": null,
      "outputs": [
        {
          "output_type": "execute_result",
          "data": {
            "text/plain": [
              "83361"
            ]
          },
          "metadata": {},
          "execution_count": 85
        }
      ]
    },
    {
      "cell_type": "markdown",
      "source": [
        "#### Max_df"
      ],
      "metadata": {
        "id": "B4Bvg-jjt-Lt"
      }
    },
    {
      "cell_type": "code",
      "source": [
        "# ignore terms that appear in more than 50% of the documents\n",
        "vect = CountVectorizer(max_df=0.5)\n",
        "vect.fit(sms_train)\n",
        "len(vect.get_feature_names_out())"
      ],
      "metadata": {
        "colab": {
          "base_uri": "https://localhost:8080/"
        },
        "id": "8Jd075vsuDjt",
        "outputId": "5fce1aa4-69c5-4c59-e234-c6e3e2a7f80f"
      },
      "execution_count": null,
      "outputs": [
        {
          "output_type": "execute_result",
          "data": {
            "text/plain": [
              "7450"
            ]
          },
          "metadata": {},
          "execution_count": 86
        }
      ]
    },
    {
      "cell_type": "markdown",
      "source": [
        "Min_df"
      ],
      "metadata": {
        "id": "q6c4cJNLuGre"
      }
    },
    {
      "cell_type": "code",
      "source": [
        "# only keep terms that appear in at least 2 documents\n",
        "vect = CountVectorizer(min_df=2)\n",
        "vect.fit(sms_train)\n",
        "len(vect.get_feature_names_out())"
      ],
      "metadata": {
        "colab": {
          "base_uri": "https://localhost:8080/"
        },
        "id": "lqylT4c0uqB6",
        "outputId": "0e98f9b8-2bfa-4d19-e31d-df407b5b47a9"
      },
      "execution_count": null,
      "outputs": [
        {
          "output_type": "execute_result",
          "data": {
            "text/plain": [
              "3445"
            ]
          },
          "metadata": {},
          "execution_count": 87
        }
      ]
    },
    {
      "cell_type": "markdown",
      "source": [
        "Max_feature"
      ],
      "metadata": {
        "id": "NworGa6Uutdc"
      }
    },
    {
      "cell_type": "code",
      "source": [
        "# only keep terms that appear in at least 2 documents, but maximum vocablury is restricted to 2000 words\n",
        "vect = CountVectorizer(min_df=2, max_features=2000)\n",
        "vect.fit(sms_train)\n",
        "len(vect.get_feature_names_out())"
      ],
      "metadata": {
        "colab": {
          "base_uri": "https://localhost:8080/"
        },
        "id": "on67fIawu7uj",
        "outputId": "d690d789-ae02-45a3-853a-30002d802309"
      },
      "execution_count": null,
      "outputs": [
        {
          "output_type": "execute_result",
          "data": {
            "text/plain": [
              "2000"
            ]
          },
          "metadata": {},
          "execution_count": 88
        }
      ]
    },
    {
      "cell_type": "markdown",
      "source": [
        "9. WordCloud"
      ],
      "metadata": {
        "id": "_mzX8B_Fu-vZ"
      }
    },
    {
      "cell_type": "code",
      "source": [
        "import matplotlib.pyplot as plt # visualization\n",
        "from wordcloud import WordCloud"
      ],
      "metadata": {
        "id": "ATr1RyBgvtuC"
      },
      "execution_count": null,
      "outputs": []
    },
    {
      "cell_type": "code",
      "source": [
        "# Define wordcloud function from wordcloud library.\n",
        "wc = WordCloud()\n",
        "wc.generate(str(data['message']))\n",
        "# declare our figure \n",
        "plt.figure(figsize=(10,10), facecolor='k')\n",
        "# add title to the graph\n",
        "plt.title(\"Most frequent words in SMS dataset\", fontsize=40, color='white')\n",
        "plt.imshow(wc)\n",
        "plt.show()"
      ],
      "metadata": {
        "colab": {
          "base_uri": "https://localhost:8080/",
          "height": 367
        },
        "id": "aBSxMXTrvwQ3",
        "outputId": "ddfd047b-06e9-4b30-f5d4-2748bd4a285e"
      },
      "execution_count": null,
      "outputs": [
        {
          "output_type": "display_data",
          "data": {
            "text/plain": [
              "<Figure size 720x720 with 1 Axes>"
            ],
            "image/png": "[encoded data removed]"
          },
          "metadata": {}
        }
      ]
    },
    {
      "cell_type": "code",
      "source": [],
      "metadata": {
        "id": "sYBeeavVv0lg"
      },
      "execution_count": null,
      "outputs": []
    }
  ]
}